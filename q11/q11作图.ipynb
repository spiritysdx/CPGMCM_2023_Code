{
 "cells": [
  {
   "cell_type": "code",
   "execution_count": 3,
   "id": "e1ff4ddd-2393-462b-a757-304261587b50",
   "metadata": {
    "tags": []
   },
   "outputs": [],
   "source": [
    "import re\n",
    "import math\n",
    "import warnings\n",
    "import tqdm\n",
    "import random\n",
    "import matplotlib\n",
    "import numpy as np\n",
    "import pandas as pd\n",
    "from scipy import optimize\n",
    "import matplotlib.pyplot as plt\n",
    "from scipy.optimize import fsolve\n",
    "# from sympy import symbols, Eq, solve\n",
    "from matplotlib.pyplot import MultipleLocator\n",
    "# import seaborn as sns\n",
    "warnings.filterwarnings(\"ignore\")\n",
    "\n",
    "\n",
    "%matplotlib inline\n",
    "plt.rcParams['font.sans-serif'] = ['SimHei'] \n",
    "plt.rcParams['axes.unicode_minus'] = False "
   ]
  },
  {
   "cell_type": "code",
   "execution_count": 4,
   "id": "b1214a18-ae33-4da4-9db2-db11a13aa323",
   "metadata": {
    "tags": []
   },
   "outputs": [],
   "source": [
    "# data0 = pd.read_excel('1a数据_已替换时间戳_已矫正.xlsx')\n",
    "# flow_cols =[col for col in data0.columns if col.endswith('流水号')]\n",
    "# subset_df = data0[flow_cols][:100]\n",
    "\n",
    "# # 计算每行的最大值和最小值\n",
    "# subset_df['最大值'] = subset_df.max(axis=1)\n",
    "# subset_df['最小值'] = subset_df.min(axis=1)\n",
    "\n",
    "# # 创建一个新的DataFrame，只包含最大值和最小值列\n",
    "# result_df = subset_df[['最大值', '最小值']]/3600\n",
    "# result_df"
   ]
  },
  {
   "cell_type": "code",
   "execution_count": 5,
   "id": "e7408975-cf37-4852-873e-8ba01687e9bb",
   "metadata": {
    "tags": []
   },
   "outputs": [],
   "source": [
    "data1 = pd.read_excel('血肿1a_100人拟合函数选择结果.xlsx')\n",
    "data1 = data1.drop(['Unnamed: 0'], axis=1)\n",
    "\n",
    "def convert_coef_string(coef_str):\n",
    "    coef_str = coef_str.strip('[]')\n",
    "    coef_list = coef_str.split()\n",
    "    coef_matrix = np.array([float(val) for val in coef_list])\n",
    "    return coef_matrix\n",
    "\n",
    "# 使用apply函数将转换函数应用到data1['回归系数']列的每个元素\n",
    "data1['回归系数'] = data1['回归系数'].apply(convert_coef_string)\n",
    "\n",
    "# data2 = pd.concat([data1, result_df], axis = 1)\n",
    "# data2"
   ]
  },
  {
   "cell_type": "code",
   "execution_count": 6,
   "id": "dfd82bda-e0ba-46f5-9285-bbd3c892c533",
   "metadata": {
    "tags": []
   },
   "outputs": [],
   "source": [
    "# list(data1['回归类型'])"
   ]
  },
  {
   "cell_type": "code",
   "execution_count": null,
   "id": "93387b08-3cd8-427d-9b41-ea2b987a570e",
   "metadata": {
    "tags": []
   },
   "outputs": [],
   "source": [
    "# 定义一个函数来计算三次函数的值\n",
    "# def cubic_function(x, coef):\n",
    "#     return coef[0] * x**3 + coef[1] * x**2 + coef[2] * x + coef[3]\n",
    "\n",
    "def liner_func(x,a,b):\n",
    "    return a*x+b\n",
    "\n",
    "#二次\n",
    "def erchi_func(x,a,b,c):\n",
    "    return a*x**2+b*x+c\n",
    "\n",
    "#三次\n",
    "def sanchi_func(x,a,b,c,d):\n",
    "    return a*x**3+b*x**2+c*x+d\n",
    "\n",
    "# 三角函数\n",
    "def trig_func(x,a,b,c):\n",
    "    return a*np.sin(x)+b*np.cos(x)+c\n",
    "# 指数曲线\n",
    "def target_func(x, a, b, c):\n",
    "    return a * np.exp(-x / b) + c\n",
    "# 对数函数\n",
    "def hyp_func(x, a,b):\n",
    "    return a*np.log(x)+b\n",
    "\n",
    "# 生成x轴的值\n",
    "x = np.linspace(-10, 10, 100)\n",
    "\n",
    "# 创建一个包含5列4行的大图，并调整子图之间的垂直间距\n",
    "fig, axes = plt.subplots(4, 5, figsize=(15, 12))\n",
    "fig.subplots_adjust(hspace=0.2)  # 调整垂直方向的间距\n",
    "\n",
    "# 随机选择20个三次函数的索引\n",
    "random_indices = random.sample(range(len(data1)), 20)\n",
    "\n",
    "# 绘制随机选择的三次函数的图形\n",
    "for i, ax in enumerate(axes.ravel()):\n",
    "    index = random_indices[i]\n",
    "    coef = data1.loc[index, '回归系数']\n",
    "    leixing = data1.loc[index, '回归类型']\n",
    "    if leixing=='线性回归':\n",
    "        y = liner_func(x, *coef)\n",
    "    if leixing=='二次函数回归':\n",
    "        y= erchi_func(x,*coef)\n",
    "    if leixing=='三次函数回归':\n",
    "        y= sanchi_func(x,*coef)\n",
    "        \n",
    "    if leixing=='三角函数回归':\n",
    "        y= trig_func(x,*coef)\n",
    "    if leixing=='指数函数回归':\n",
    "        y= target_func(x,*coef)\n",
    "    if leixing=='对数函数回归':\n",
    "        y= hyp_func(x,*coef)\n",
    "\n",
    "    ax.plot(x, y)\n",
    "    if i // 5 != 3:\n",
    "        ax.set_xticks([])\n",
    "    if i % 5 != 0:\n",
    "        ax.set_yticks([])\n",
    "    # 只有当行索引大于等于3时，才设置xlabel\n",
    "    if i // 5 >= 3:\n",
    "        ax.set_xlabel('x')\n",
    "    if (i % 5) == 0:\n",
    "        ax.set_ylabel('y')\n",
    "    ax.set_title(f'Function {index+1}')\n",
    "\n",
    "plt.savefig('q11_20sub.png', dpi=1000)\n",
    "plt.show()\n"
   ]
  },
  {
   "cell_type": "code",
   "execution_count": null,
   "id": "e3a96d90-eba0-4373-8788-58e3b1552483",
   "metadata": {},
   "outputs": [],
   "source": []
  },
  {
   "cell_type": "code",
   "execution_count": null,
   "id": "ddb54d18-19f2-4370-88a5-46920030c424",
   "metadata": {},
   "outputs": [],
   "source": []
  },
  {
   "cell_type": "code",
   "execution_count": null,
   "id": "fe3ba7c3-69c1-42ec-9a17-c855140a758d",
   "metadata": {},
   "outputs": [],
   "source": []
  }
 ],
 "metadata": {
  "kernelspec": {
   "display_name": "Python 3 (ipykernel)",
   "language": "python",
   "name": "python3"
  },
  "language_info": {
   "codemirror_mode": {
    "name": "ipython",
    "version": 3
   },
   "file_extension": ".py",
   "mimetype": "text/x-python",
   "name": "python",
   "nbconvert_exporter": "python",
   "pygments_lexer": "ipython3",
   "version": "3.11.4"
  }
 },
 "nbformat": 4,
 "nbformat_minor": 5
}
