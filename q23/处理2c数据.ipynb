{
 "cells": [
  {
   "cell_type": "code",
   "execution_count": null,
   "id": "14cb3769-9ffe-48a4-8ff1-7463b4a26d91",
   "metadata": {
    "tags": []
   },
   "outputs": [],
   "source": [
    "import re\n",
    "import math\n",
    "import warnings\n",
    "import tqdm\n",
    "import matplotlib\n",
    "import numpy as np\n",
    "import pandas as pd\n",
    "import matplotlib.pyplot as plt\n",
    "from scipy.optimize import fsolve\n",
    "from sympy import symbols, Eq, solve\n",
    "from matplotlib.pyplot import MultipleLocator\n",
    "from sklearn.preprocessing import MinMaxScaler, Binarizer\n",
    "from sklearn.datasets import load_breast_cancer\n",
    "from sklearn.ensemble import RandomForestClassifier\n",
    "from sklearn.model_selection import GridSearchCV\n",
    "from sklearn.model_selection import cross_val_score\n",
    "warnings.filterwarnings(\"ignore\")\n",
    "\n",
    "\n",
    "%matplotlib inline\n",
    "plt.rcParams['font.sans-serif'] = ['SimHei'] \n",
    "plt.rcParams['axes.unicode_minus'] = False \n",
    "\n",
    "data5=pd.read_excel('2c数据.xlsx')\n",
    "\n",
    "# data6['ID'] = data5['ID'].head(100)\n",
    "data7 = data5.copy()\n",
    "\n",
    "# 转换独热编码\n",
    "xueya_list = []\n",
    "for i in data7['血压']:\n",
    "    y1 = i.split('/')[0]\n",
    "    y2 = i.split('/')[1]\n",
    "    if int(y1) > 139 or int(y1) < 90:\n",
    "        status_i = 0\n",
    "    elif int(y2) > 89 or int(y2) < 60:\n",
    "        status_i = 0\n",
    "    else:\n",
    "        status_i = 1\n",
    "    xueya_list.append(status_i)\n",
    "data7['血压'] = np.array(xueya_list)\n",
    "data7['性别_男'] = data5['性别'].apply(lambda x: 1 if x == '男' else 0)\n",
    "data7['性别_女'] = data5['性别'].apply(lambda x: 1 if x == '女' else 0)\n",
    "x = data7['年龄'].values\n",
    "scaler = MinMaxScaler()\n",
    "x_normalized = scaler.fit_transform(x.reshape(-1, 1))\n",
    "binarizer = Binarizer(threshold=0.5)\n",
    "x_binarized = binarizer.fit_transform(x_normalized)\n",
    "data7['年龄'] = x_binarized\n",
    "pd.set_option('display.max_rows',None)\n",
    "\n",
    "#设置列不限制数量\n",
    "pd.set_option('display.max_columns',None)\n",
    "\n",
    "#设置value的显示长度为100，默认为50\n",
    "pd.set_option('max_colwidth',100)\n",
    "\n",
    "a=list(data7['脑出血前mRS评分'])\n",
    "data7['脑出血前mRS评分']=[(i-min(a))/(max(a)-min(a)) for i in a]\n",
    "data7.drop(columns={'性别'},axis=1,inplace=True)\n",
    "data7.to_excel('2c数据处理结果.xlsx',index=False)\n",
    "data7\n"
   ]
  },
  {
   "cell_type": "code",
   "execution_count": null,
   "id": "498fdf8d-99e3-4623-a2aa-58e5903000ec",
   "metadata": {},
   "outputs": [],
   "source": []
  }
 ],
 "metadata": {
  "kernelspec": {
   "display_name": "Python 3 (ipykernel)",
   "language": "python",
   "name": "python3"
  },
  "language_info": {
   "codemirror_mode": {
    "name": "ipython",
    "version": 3
   },
   "file_extension": ".py",
   "mimetype": "text/x-python",
   "name": "python",
   "nbconvert_exporter": "python",
   "pygments_lexer": "ipython3",
   "version": "3.11.4"
  }
 },
 "nbformat": 4,
 "nbformat_minor": 5
}
