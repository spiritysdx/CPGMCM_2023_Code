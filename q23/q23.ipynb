{
 "cells": [
  {
   "cell_type": "code",
   "execution_count": 19,
   "id": "21c41f00-3a28-424c-826d-b3013c2ff2a4",
   "metadata": {
    "tags": []
   },
   "outputs": [],
   "source": [
    "import re\n",
    "import math\n",
    "import warnings\n",
    "import tqdm\n",
    "import json\n",
    "import matplotlib\n",
    "import numpy as np\n",
    "import pandas as pd\n",
    "import matplotlib.pyplot as plt\n",
    "from scipy import optimize\n",
    "\n",
    "\n",
    "warnings.filterwarnings(\"ignore\")"
   ]
  },
  {
   "cell_type": "code",
   "execution_count": 20,
   "id": "e86a1112-cda0-493c-8b51-c809109ab504",
   "metadata": {
    "tags": []
   },
   "outputs": [],
   "source": [
    "data1 = pd.read_excel('2c治疗方案.xlsx') # 治疗方案\n",
    "data2 = pd.read_excel('2a数据_已替换时间戳_已矫正.xlsx') # 水肿数据\n",
    "data3 = pd."
   ]
  },
  {
   "cell_type": "code",
   "execution_count": 21,
   "id": "bb0656a4-da9b-41cd-bfcb-3d825e28f648",
   "metadata": {
    "tags": []
   },
   "outputs": [],
   "source": [
    "data3 = pd.merge(data1, data2, how='outer', on='ID')\n",
    "\n",
    "data3 = data3.drop(range(101, 131))"
   ]
  },
  {
   "cell_type": "code",
   "execution_count": 22,
   "id": "581f2376-0ba1-423e-aac1-6e47ad1b017e",
   "metadata": {
    "tags": []
   },
   "outputs": [
    {
     "data": {
      "text/plain": [
       "Index(['ID', '脑室引流', '止血治疗', '降颅压治疗', '降压治疗', '镇静、镇痛治疗', '止吐护胃', '营养神经',\n",
       "       '发病到首次影像检查时间间隔', '入院首次影像检查流水号', 'ED_volume.0', '随访1流水号', 'ED_volume.1',\n",
       "       '随访2流水号', 'ED_volume.2', '随访3流水号', 'ED_volume.3', '随访4流水号',\n",
       "       'ED_volume.4', '随访5流水号', 'ED_volume.5', '随访6流水号', 'ED_volume.6',\n",
       "       '随访7流水号', 'ED_volume.7', '随访8流水号', 'ED_volume.8'],\n",
       "      dtype='object')"
      ]
     },
     "execution_count": 22,
     "metadata": {},
     "output_type": "execute_result"
    }
   ],
   "source": [
    "data3.columns"
   ]
  },
  {
   "cell_type": "code",
   "execution_count": 23,
   "id": "57181c34-50ae-40ff-9023-5c8e5dffaae5",
   "metadata": {},
   "outputs": [
    {
     "name": "stdout",
     "output_type": "stream",
     "text": [
      "100\n"
     ]
    }
   ],
   "source": [
    "import json\n",
    "with open('best_labels.json','r') as f:\n",
    "    groups_label=json.load(f)\n",
    "print(len(groups_label['best_labels']))"
   ]
  },
  {
   "cell_type": "code",
   "execution_count": 11,
   "id": "b0d7674b-183a-434f-a414-720f30ef897f",
   "metadata": {
    "tags": []
   },
   "outputs": [],
   "source": [
    "dataT=data3.head(100)\n",
    "dataT['分组信息']=groups_label['best_labels']\n",
    "dataT.to_excel('含分组信息数据.xlsx',index=False)"
   ]
  },
  {
   "cell_type": "code",
   "execution_count": 12,
   "id": "11c918db-012d-46d5-9682-bdb7272b6638",
   "metadata": {
    "tags": []
   },
   "outputs": [],
   "source": [
    "# 创建一个新列\"差\"，初始化为0\n",
    "dataT['差'] = 0\n",
    "U=globals()\n",
    "res={}\n",
    "for i in list(set(dataT['分组信息'])):\n",
    "    U[f'data_g{i}']=dataT[dataT['分组信息']==i]\n",
    "\n",
    "# 遍历数据集的每一行\n",
    "    for index, row in U[f'data_g{i}'].iterrows():\n",
    "        row_sum = 0  # 用于累积每行的差值\n",
    "\n",
    "        prev_value = None  # 用于存储前一个以\"ED\"开头的列的值\n",
    "\n",
    "        # 遍历以\"ED\"开头的列\n",
    "        for col in row.index:\n",
    "            if col.startswith('ED'):\n",
    "                value = row[col]\n",
    "                if not pd.isna(value):  # 确保元素不是NaN\n",
    "                    if prev_value is not None:\n",
    "                        row_sum += (value - prev_value)  # 计算差值并累积\n",
    "                    prev_value = value\n",
    "\n",
    "        # 根据row_sum的值设置\"差\"列的值\n",
    "        if row_sum > 0:\n",
    "            U[f'data_g{i}'].at[index, '差'] = 1\n",
    "        elif row_sum < 0:\n",
    "            U[f'data_g{i}'].at[index, '差'] = -1\n",
    "        res[f'组{i}']=float(U[f'data_g{i}']['差'].sum())\n",
    "\n",
    "res_res = {}\n",
    "for i in res:\n",
    "    if res[i] < 0:\n",
    "        res_res[i]=-1\n",
    "    else:\n",
    "        res_res[i]=1\n",
    "# with open('分组趋势.json', 'w') as f:\n",
    "#     json.dump(res_res,f)"
   ]
  },
  {
   "cell_type": "code",
   "execution_count": 13,
   "id": "4eee2232-b50c-44c1-b3f4-8b9eeb83a22e",
   "metadata": {},
   "outputs": [
    {
     "name": "stdout",
     "output_type": "stream",
     "text": [
      "{'组0': -1, '组1': -1, '组2': 1, '组3': 1, '组4': -1}\n"
     ]
    }
   ],
   "source": [
    "# with open('分组趋势.json', 'r') as f:\n",
    "#     print(json.load(f))"
   ]
  },
  {
   "cell_type": "code",
   "execution_count": null,
   "id": "461acfd2-dbff-453b-ad59-428b3a0f1f2d",
   "metadata": {},
   "outputs": [],
   "source": [
    "\n",
    "for i in res_res:\n",
    "    "
   ]
  },
  {
   "cell_type": "code",
   "execution_count": 18,
   "id": "a8ef498f-fa8c-4d96-af75-c15d14477460",
   "metadata": {},
   "outputs": [
    {
     "data": {
      "text/plain": [
       "['ID', '脑室引流', '止血治疗', '降颅压治疗', '降压治疗', '镇静、镇痛治疗', '止吐护胃', '营养神经']"
      ]
     },
     "execution_count": 18,
     "metadata": {},
     "output_type": "execute_result"
    }
   ],
   "source": [
    "list(data1.columns)"
   ]
  }
 ],
 "metadata": {
  "kernelspec": {
   "display_name": "Python 3 (ipykernel)",
   "language": "python",
   "name": "python3"
  },
  "language_info": {
   "codemirror_mode": {
    "name": "ipython",
    "version": 3
   },
   "file_extension": ".py",
   "mimetype": "text/x-python",
   "name": "python",
   "nbconvert_exporter": "python",
   "pygments_lexer": "ipython3",
   "version": "3.11.4"
  }
 },
 "nbformat": 4,
 "nbformat_minor": 5
}
