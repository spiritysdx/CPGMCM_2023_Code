{
 "cells": [
  {
   "cell_type": "code",
   "execution_count": 24,
   "id": "21c41f00-3a28-424c-826d-b3013c2ff2a4",
   "metadata": {
    "tags": []
   },
   "outputs": [],
   "source": [
    "import re\n",
    "import math\n",
    "import warnings\n",
    "import tqdm\n",
    "import json\n",
    "import matplotlib\n",
    "import numpy as np\n",
    "import pandas as pd\n",
    "import matplotlib.pyplot as plt\n",
    "from scipy import optimize\n",
    "\n",
    "\n",
    "warnings.filterwarnings(\"ignore\")"
   ]
  },
  {
   "cell_type": "code",
   "execution_count": 25,
   "id": "e86a1112-cda0-493c-8b51-c809109ab504",
   "metadata": {
    "tags": []
   },
   "outputs": [
    {
     "ename": "SyntaxError",
     "evalue": "invalid syntax (2637392360.py, line 3)",
     "output_type": "error",
     "traceback": [
      "\u001b[0;36m  Cell \u001b[0;32mIn[25], line 3\u001b[0;36m\u001b[0m\n\u001b[0;31m    data3 = pd.\u001b[0m\n\u001b[0m               ^\u001b[0m\n\u001b[0;31mSyntaxError\u001b[0m\u001b[0;31m:\u001b[0m invalid syntax\n"
     ]
    }
   ],
   "source": [
    "data1 = pd.read_excel('2c治疗方案.xlsx') # 治疗方案\n",
    "data2 = pd.read_excel('2a数据_已替换时间戳_已矫正.xlsx') # 水肿数据\n",
    "data3 = pd."
   ]
  },
  {
   "cell_type": "code",
   "execution_count": 26,
   "id": "bb0656a4-da9b-41cd-bfcb-3d825e28f648",
   "metadata": {
    "tags": []
   },
   "outputs": [],
   "source": [
    "data3 = pd.merge(data1, data2, how='outer', on='ID')\n",
    "\n",
    "data3 = data3.drop(range(101, 131))"
   ]
  },
  {
   "cell_type": "code",
   "execution_count": 27,
   "id": "581f2376-0ba1-423e-aac1-6e47ad1b017e",
   "metadata": {
    "tags": []
   },
   "outputs": [
    {
     "data": {
      "text/plain": [
       "Index(['ID', '脑室引流', '止血治疗', '降颅压治疗', '降压治疗', '镇静、镇痛治疗', '止吐护胃', '营养神经',\n",
       "       '发病到首次影像检查时间间隔', '入院首次影像检查流水号', 'ED_volume.0', '随访1流水号', 'ED_volume.1',\n",
       "       '随访2流水号', 'ED_volume.2', '随访3流水号', 'ED_volume.3', '随访4流水号',\n",
       "       'ED_volume.4', '随访5流水号', 'ED_volume.5', '随访6流水号', 'ED_volume.6',\n",
       "       '随访7流水号', 'ED_volume.7', '随访8流水号', 'ED_volume.8'],\n",
       "      dtype='object')"
      ]
     },
     "execution_count": 27,
     "metadata": {},
     "output_type": "execute_result"
    }
   ],
   "source": [
    "data3.columns"
   ]
  },
  {
   "cell_type": "code",
   "execution_count": 28,
   "id": "57181c34-50ae-40ff-9023-5c8e5dffaae5",
   "metadata": {},
   "outputs": [
    {
     "ename": "KeyError",
     "evalue": "'best_labels'",
     "output_type": "error",
     "traceback": [
      "\u001b[0;31m---------------------------------------------------------------------------\u001b[0m",
      "\u001b[0;31mKeyError\u001b[0m                                  Traceback (most recent call last)",
      "Cell \u001b[0;32mIn[28], line 4\u001b[0m\n\u001b[1;32m      2\u001b[0m \u001b[38;5;28;01mwith\u001b[39;00m \u001b[38;5;28mopen\u001b[39m(\u001b[38;5;124m'\u001b[39m\u001b[38;5;124mbest_labels.json\u001b[39m\u001b[38;5;124m'\u001b[39m,\u001b[38;5;124m'\u001b[39m\u001b[38;5;124mr\u001b[39m\u001b[38;5;124m'\u001b[39m) \u001b[38;5;28;01mas\u001b[39;00m f:\n\u001b[1;32m      3\u001b[0m     groups_label\u001b[38;5;241m=\u001b[39mjson\u001b[38;5;241m.\u001b[39mload(f)\n\u001b[0;32m----> 4\u001b[0m \u001b[38;5;28mprint\u001b[39m(\u001b[38;5;28mlen\u001b[39m(groups_label[\u001b[38;5;124m'\u001b[39m\u001b[38;5;124mbest_labels\u001b[39m\u001b[38;5;124m'\u001b[39m]))\n",
      "\u001b[0;31mKeyError\u001b[0m: 'best_labels'"
     ]
    }
   ],
   "source": [
    "import json\n",
    "with open('best_labels.json','r') as f:\n",
    "    groups_label=json.load(f)\n",
    "print(len(groups_label['best_labels']))"
   ]
  },
  {
   "cell_type": "code",
   "execution_count": 29,
   "id": "b0d7674b-183a-434f-a414-720f30ef897f",
   "metadata": {
    "tags": []
   },
   "outputs": [
    {
     "ename": "KeyError",
     "evalue": "'best_labels'",
     "output_type": "error",
     "traceback": [
      "\u001b[0;31m---------------------------------------------------------------------------\u001b[0m",
      "\u001b[0;31mKeyError\u001b[0m                                  Traceback (most recent call last)",
      "Cell \u001b[0;32mIn[29], line 2\u001b[0m\n\u001b[1;32m      1\u001b[0m dataT\u001b[38;5;241m=\u001b[39mdata3\u001b[38;5;241m.\u001b[39mhead(\u001b[38;5;241m100\u001b[39m)\n\u001b[0;32m----> 2\u001b[0m dataT[\u001b[38;5;124m'\u001b[39m\u001b[38;5;124m分组信息\u001b[39m\u001b[38;5;124m'\u001b[39m]\u001b[38;5;241m=\u001b[39mgroups_label[\u001b[38;5;124m'\u001b[39m\u001b[38;5;124mbest_labels\u001b[39m\u001b[38;5;124m'\u001b[39m]\n\u001b[1;32m      3\u001b[0m dataT\u001b[38;5;241m.\u001b[39mto_excel(\u001b[38;5;124m'\u001b[39m\u001b[38;5;124m含分组信息数据.xlsx\u001b[39m\u001b[38;5;124m'\u001b[39m,index\u001b[38;5;241m=\u001b[39m\u001b[38;5;28;01mFalse\u001b[39;00m)\n",
      "\u001b[0;31mKeyError\u001b[0m: 'best_labels'"
     ]
    }
   ],
   "source": [
    "dataT=data3.head(100)\n",
    "dataT['分组信息']=groups_label['best_labels']\n",
    "dataT.to_excel('含分组信息数据.xlsx',index=False)"
   ]
  },
  {
   "cell_type": "code",
   "execution_count": 30,
   "id": "11c918db-012d-46d5-9682-bdb7272b6638",
   "metadata": {
    "tags": []
   },
   "outputs": [
    {
     "ename": "KeyError",
     "evalue": "'分组信息'",
     "output_type": "error",
     "traceback": [
      "\u001b[0;31m---------------------------------------------------------------------------\u001b[0m",
      "\u001b[0;31mKeyError\u001b[0m                                  Traceback (most recent call last)",
      "File \u001b[0;32m~/miniconda3/envs/jupyter-env/lib/python3.11/site-packages/pandas/core/indexes/base.py:3790\u001b[0m, in \u001b[0;36mIndex.get_loc\u001b[0;34m(self, key)\u001b[0m\n\u001b[1;32m   3789\u001b[0m \u001b[38;5;28;01mtry\u001b[39;00m:\n\u001b[0;32m-> 3790\u001b[0m     \u001b[38;5;28;01mreturn\u001b[39;00m \u001b[38;5;28mself\u001b[39m\u001b[38;5;241m.\u001b[39m_engine\u001b[38;5;241m.\u001b[39mget_loc(casted_key)\n\u001b[1;32m   3791\u001b[0m \u001b[38;5;28;01mexcept\u001b[39;00m \u001b[38;5;167;01mKeyError\u001b[39;00m \u001b[38;5;28;01mas\u001b[39;00m err:\n",
      "File \u001b[0;32mindex.pyx:152\u001b[0m, in \u001b[0;36mpandas._libs.index.IndexEngine.get_loc\u001b[0;34m()\u001b[0m\n",
      "File \u001b[0;32mindex.pyx:181\u001b[0m, in \u001b[0;36mpandas._libs.index.IndexEngine.get_loc\u001b[0;34m()\u001b[0m\n",
      "File \u001b[0;32mpandas/_libs/hashtable_class_helper.pxi:7080\u001b[0m, in \u001b[0;36mpandas._libs.hashtable.PyObjectHashTable.get_item\u001b[0;34m()\u001b[0m\n",
      "File \u001b[0;32mpandas/_libs/hashtable_class_helper.pxi:7088\u001b[0m, in \u001b[0;36mpandas._libs.hashtable.PyObjectHashTable.get_item\u001b[0;34m()\u001b[0m\n",
      "\u001b[0;31mKeyError\u001b[0m: '分组信息'",
      "\nThe above exception was the direct cause of the following exception:\n",
      "\u001b[0;31mKeyError\u001b[0m                                  Traceback (most recent call last)",
      "Cell \u001b[0;32mIn[30], line 5\u001b[0m\n\u001b[1;32m      3\u001b[0m U\u001b[38;5;241m=\u001b[39m\u001b[38;5;28mglobals\u001b[39m()\n\u001b[1;32m      4\u001b[0m res\u001b[38;5;241m=\u001b[39m{}\n\u001b[0;32m----> 5\u001b[0m \u001b[38;5;28;01mfor\u001b[39;00m i \u001b[38;5;129;01min\u001b[39;00m \u001b[38;5;28mlist\u001b[39m(\u001b[38;5;28mset\u001b[39m(dataT[\u001b[38;5;124m'\u001b[39m\u001b[38;5;124m分组信息\u001b[39m\u001b[38;5;124m'\u001b[39m])):\n\u001b[1;32m      6\u001b[0m     U[\u001b[38;5;124mf\u001b[39m\u001b[38;5;124m'\u001b[39m\u001b[38;5;124mdata_g\u001b[39m\u001b[38;5;132;01m{\u001b[39;00mi\u001b[38;5;132;01m}\u001b[39;00m\u001b[38;5;124m'\u001b[39m]\u001b[38;5;241m=\u001b[39mdataT[dataT[\u001b[38;5;124m'\u001b[39m\u001b[38;5;124m分组信息\u001b[39m\u001b[38;5;124m'\u001b[39m]\u001b[38;5;241m==\u001b[39mi]\n\u001b[1;32m      8\u001b[0m \u001b[38;5;66;03m# 遍历数据集的每一行\u001b[39;00m\n",
      "File \u001b[0;32m~/miniconda3/envs/jupyter-env/lib/python3.11/site-packages/pandas/core/frame.py:3896\u001b[0m, in \u001b[0;36mDataFrame.__getitem__\u001b[0;34m(self, key)\u001b[0m\n\u001b[1;32m   3894\u001b[0m \u001b[38;5;28;01mif\u001b[39;00m \u001b[38;5;28mself\u001b[39m\u001b[38;5;241m.\u001b[39mcolumns\u001b[38;5;241m.\u001b[39mnlevels \u001b[38;5;241m>\u001b[39m \u001b[38;5;241m1\u001b[39m:\n\u001b[1;32m   3895\u001b[0m     \u001b[38;5;28;01mreturn\u001b[39;00m \u001b[38;5;28mself\u001b[39m\u001b[38;5;241m.\u001b[39m_getitem_multilevel(key)\n\u001b[0;32m-> 3896\u001b[0m indexer \u001b[38;5;241m=\u001b[39m \u001b[38;5;28mself\u001b[39m\u001b[38;5;241m.\u001b[39mcolumns\u001b[38;5;241m.\u001b[39mget_loc(key)\n\u001b[1;32m   3897\u001b[0m \u001b[38;5;28;01mif\u001b[39;00m is_integer(indexer):\n\u001b[1;32m   3898\u001b[0m     indexer \u001b[38;5;241m=\u001b[39m [indexer]\n",
      "File \u001b[0;32m~/miniconda3/envs/jupyter-env/lib/python3.11/site-packages/pandas/core/indexes/base.py:3797\u001b[0m, in \u001b[0;36mIndex.get_loc\u001b[0;34m(self, key)\u001b[0m\n\u001b[1;32m   3792\u001b[0m     \u001b[38;5;28;01mif\u001b[39;00m \u001b[38;5;28misinstance\u001b[39m(casted_key, \u001b[38;5;28mslice\u001b[39m) \u001b[38;5;129;01mor\u001b[39;00m (\n\u001b[1;32m   3793\u001b[0m         \u001b[38;5;28misinstance\u001b[39m(casted_key, abc\u001b[38;5;241m.\u001b[39mIterable)\n\u001b[1;32m   3794\u001b[0m         \u001b[38;5;129;01mand\u001b[39;00m \u001b[38;5;28many\u001b[39m(\u001b[38;5;28misinstance\u001b[39m(x, \u001b[38;5;28mslice\u001b[39m) \u001b[38;5;28;01mfor\u001b[39;00m x \u001b[38;5;129;01min\u001b[39;00m casted_key)\n\u001b[1;32m   3795\u001b[0m     ):\n\u001b[1;32m   3796\u001b[0m         \u001b[38;5;28;01mraise\u001b[39;00m InvalidIndexError(key)\n\u001b[0;32m-> 3797\u001b[0m     \u001b[38;5;28;01mraise\u001b[39;00m \u001b[38;5;167;01mKeyError\u001b[39;00m(key) \u001b[38;5;28;01mfrom\u001b[39;00m \u001b[38;5;21;01merr\u001b[39;00m\n\u001b[1;32m   3798\u001b[0m \u001b[38;5;28;01mexcept\u001b[39;00m \u001b[38;5;167;01mTypeError\u001b[39;00m:\n\u001b[1;32m   3799\u001b[0m     \u001b[38;5;66;03m# If we have a listlike key, _check_indexing_error will raise\u001b[39;00m\n\u001b[1;32m   3800\u001b[0m     \u001b[38;5;66;03m#  InvalidIndexError. Otherwise we fall through and re-raise\u001b[39;00m\n\u001b[1;32m   3801\u001b[0m     \u001b[38;5;66;03m#  the TypeError.\u001b[39;00m\n\u001b[1;32m   3802\u001b[0m     \u001b[38;5;28mself\u001b[39m\u001b[38;5;241m.\u001b[39m_check_indexing_error(key)\n",
      "\u001b[0;31mKeyError\u001b[0m: '分组信息'"
     ]
    }
   ],
   "source": [
    "# 创建一个新列\"差\"，初始化为0\n",
    "dataT['差'] = 0\n",
    "U=globals()\n",
    "res={}\n",
    "for i in list(set(dataT['分组信息'])):\n",
    "    U[f'data_g{i}']=dataT[dataT['分组信息']==i]\n",
    "\n",
    "# 遍历数据集的每一行\n",
    "    for index, row in U[f'data_g{i}'].iterrows():\n",
    "        row_sum = 0  # 用于累积每行的差值\n",
    "\n",
    "        prev_value = None  # 用于存储前一个以\"ED\"开头的列的值\n",
    "\n",
    "        # 遍历以\"ED\"开头的列\n",
    "        for col in row.index:\n",
    "            if col.startswith('ED'):\n",
    "                value = row[col]\n",
    "                if not pd.isna(value):  # 确保元素不是NaN\n",
    "                    if prev_value is not None:\n",
    "                        row_sum += (value - prev_value)  # 计算差值并累积\n",
    "                    prev_value = value\n",
    "\n",
    "        # 根据row_sum的值设置\"差\"列的值\n",
    "        if row_sum > 0:\n",
    "            U[f'data_g{i}'].at[index, '差'] = 1\n",
    "        elif row_sum < 0:\n",
    "            U[f'data_g{i}'].at[index, '差'] = -1\n",
    "        res[f'组{i}']=float(U[f'data_g{i}']['差'].sum())\n",
    "\n",
    "res_res = {}\n",
    "for i in res:\n",
    "    if res[i] < 0:\n",
    "        res_res[i]=-1\n",
    "    else:\n",
    "        res_res[i]=1\n",
    "# with open('分组趋势.json', 'w') as f:\n",
    "#     json.dump(res_res,f)"
   ]
  },
  {
   "cell_type": "code",
   "execution_count": null,
   "id": "4eee2232-b50c-44c1-b3f4-8b9eeb83a22e",
   "metadata": {},
   "outputs": [],
   "source": [
    "# with open('分组趋势.json', 'r') as f:\n",
    "#     print(json.load(f))"
   ]
  },
  {
   "cell_type": "code",
   "execution_count": 31,
   "id": "461acfd2-dbff-453b-ad59-428b3a0f1f2d",
   "metadata": {},
   "outputs": [
    {
     "ename": "SyntaxError",
     "evalue": "incomplete input (1160186974.py, line 2)",
     "output_type": "error",
     "traceback": [
      "\u001b[0;36m  Cell \u001b[0;32mIn[31], line 2\u001b[0;36m\u001b[0m\n\u001b[0;31m    \u001b[0m\n\u001b[0m    ^\u001b[0m\n\u001b[0;31mSyntaxError\u001b[0m\u001b[0;31m:\u001b[0m incomplete input\n"
     ]
    }
   ],
   "source": [
    "\n",
    "for i in res_res:\n",
    "    "
   ]
  },
  {
   "cell_type": "code",
   "execution_count": 32,
   "id": "a8ef498f-fa8c-4d96-af75-c15d14477460",
   "metadata": {},
   "outputs": [
    {
     "data": {
      "text/plain": [
       "['ID', '脑室引流', '止血治疗', '降颅压治疗', '降压治疗', '镇静、镇痛治疗', '止吐护胃', '营养神经']"
      ]
     },
     "execution_count": 32,
     "metadata": {},
     "output_type": "execute_result"
    }
   ],
   "source": [
    "list(data1.columns)"
   ]
  },
  {
   "cell_type": "code",
   "execution_count": null,
   "id": "c4c36bd5-e785-4629-b20e-5216d55ffb16",
   "metadata": {},
   "outputs": [],
   "source": []
  }
 ],
 "metadata": {
  "kernelspec": {
   "display_name": "Python 3 (ipykernel)",
   "language": "python",
   "name": "python3"
  },
  "language_info": {
   "codemirror_mode": {
    "name": "ipython",
    "version": 3
   },
   "file_extension": ".py",
   "mimetype": "text/x-python",
   "name": "python",
   "nbconvert_exporter": "python",
   "pygments_lexer": "ipython3",
   "version": "3.11.4"
  }
 },
 "nbformat": 4,
 "nbformat_minor": 5
}
