{
 "cells": [
  {
   "cell_type": "code",
   "execution_count": 4,
   "id": "a0581223-ad19-41ae-b60b-268e46fa6fd6",
   "metadata": {
    "tags": []
   },
   "outputs": [],
   "source": [
    "import re\n",
    "import math\n",
    "import warnings\n",
    "import tqdm\n",
    "import matplotlib\n",
    "import numpy as np\n",
    "import pandas as pd\n",
    "import xgboost as xgb\n",
    "import matplotlib.pyplot as plt\n",
    "from scipy.optimize import fsolve\n",
    "from matplotlib.pyplot import MultipleLocator\n",
    "# from lightgbm import LGBMClassifier\n",
    "from sklearn import metrics\n",
    "from sklearn.preprocessing import MinMaxScaler, Binarizer\n",
    "from sklearn.datasets import load_breast_cancer\n",
    "from sklearn.model_selection import GridSearchCV\n",
    "from sklearn.model_selection import cross_val_score\n",
    "from sklearn.model_selection import LeaveOneOut\n",
    "from sklearn.model_selection import train_test_split\n",
    "from sklearn.metrics import accuracy_score\n",
    "from sklearn.model_selection import train_test_split\n",
    "from sklearn.model_selection import cross_val_score\n",
    "from sklearn.svm import SVC\n",
    "from sklearn.neural_network import MLPClassifier\n",
    "from sklearn.linear_model import LogisticRegression\n",
    "from sklearn.ensemble import RandomForestClassifier\n",
    "# from imblearn.over_sampling import SMOTE\n",
    "from xgboost import XGBClassifier\n",
    "warnings.filterwarnings(\"ignore\")\n",
    "\n",
    "\n",
    "%matplotlib inline\n",
    "plt.rcParams['font.sans-serif'] = ['SimHei'] \n",
    "plt.rcParams['axes.unicode_minus'] = False "
   ]
  },
  {
   "cell_type": "code",
   "execution_count": null,
   "id": "0b5de8d8-c1e7-4e72-920a-d4d7cd108b77",
   "metadata": {},
   "outputs": [],
   "source": [
    "data1=pd.read_excel('/root/2023-NPMCM-main/表1-患者列表及临床信息.xlsx')\n",
    "data2=pd.read_excel('/root/2023-NPMCM-main/表2-患者影像信息血肿及水肿的体积及位置.xlsx')\n",
    "data3=pd.read_excel('/root/2023-NPMCM-main/表3-患者影像信息血肿及水肿的形状及灰度分布.xlsx')\n",
    "data4=pd.read_excel('/root/2023-NPMCM-main/表4-答案文件.xlsx')\n",
    "data5=pd.read_excel('1b数据.xlsx').drop(['ID'], axis=1)\n",
    "\n",
    "data1.rename(columns={data1.columns[0]: \"ID\"}, inplace=True)\n",
    "data2.rename(columns={data2.columns[0]: \"ID\"}, inplace=True)\n",
    "\n",
    "data_f_1=pd.read_excel('/root/2023-NPMCM-main/附表1-检索表格-流水号vs时间.xlsx')\n",
    "data_kz=pd.read_excel('/root/2023-NPMCM-main/q11/扩张及时间.xlsx')\n",
    "\n",
    "# 转换独热编码\n",
    "xueya_list = []\n",
    "for i in data5['血压']:\n",
    "    y1 = i.split('/')[0]\n",
    "    y2 = i.split('/')[1]\n",
    "    if int(y1) > 139 or int(y1) < 90:\n",
    "        status_i = 0\n",
    "    elif int(y2) > 89 or int(y2) < 60:\n",
    "        status_i = 0\n",
    "    else:\n",
    "        status_i = 1\n",
    "    xueya_list.append(status_i)\n",
    "data5['血压'] = np.array(xueya_list)\n",
    "data5['性别_男'] = data5['性别'].apply(lambda x: 1 if x == '男' else 0)\n",
    "data5['性别_女'] = data5['性别'].apply(lambda x: 1 if x == '女' else 0)\n",
    "data5 = data5.drop(columns=['性别'])\n",
    "x = data5['年龄'].values\n",
    "scaler = MinMaxScaler()\n",
    "x_normalized = scaler.fit_transform(x.reshape(-1, 1))\n",
    "binarizer = Binarizer(threshold=0.5)\n",
    "x_binarized = binarizer.fit_transform(x_normalized)\n",
    "data5['年龄'] = x_binarized\n",
    "data5 = data5.drop(['流水号'], axis = 1)\n",
    "# 归一化\n",
    "# 创建 MinMaxScaler 对象\n",
    "scaler = MinMaxScaler()\n",
    "# 选择要归一化的列（除了 '年龄' 列之外的所有列）\n",
    "columns_to_normalize = [col for col in data5.columns if col != '性别']\n",
    "# 使用 MinMaxScaler 对所选列进行归一化\n",
    "data5[columns_to_normalize] = scaler.fit_transform(data5[columns_to_normalize])\n",
    "train = data5[:100]\n",
    "label = data_kz['是否扩张'].values[:100]\n",
    "predict = data5[100:]\n",
    "sm = SMOTE(random_state=0)\n",
    "xres, yres = sm.fit_resample(train.values, label)"
   ]
  },
  {
   "cell_type": "code",
   "execution_count": 6,
   "id": "9103c3f6-8223-44e1-af0d-3d048eafa9f4",
   "metadata": {
    "tags": []
   },
   "outputs": [
    {
     "ename": "NameError",
     "evalue": "name 'xres' is not defined",
     "output_type": "error",
     "traceback": [
      "\u001b[0;31m---------------------------------------------------------------------------\u001b[0m",
      "\u001b[0;31mNameError\u001b[0m                                 Traceback (most recent call last)",
      "Cell \u001b[0;32mIn[6], line 7\u001b[0m\n\u001b[1;32m      5\u001b[0m     default_params \u001b[38;5;241m=\u001b[39m pickle\u001b[38;5;241m.\u001b[39mload(f)\n\u001b[1;32m      6\u001b[0m xgb_model \u001b[38;5;241m=\u001b[39m xgb\u001b[38;5;241m.\u001b[39mXGBClassifier(\u001b[38;5;241m*\u001b[39m\u001b[38;5;241m*\u001b[39mdefault_params)\n\u001b[0;32m----> 7\u001b[0m xgb_model\u001b[38;5;241m.\u001b[39mfit(xres,yres)\n\u001b[1;32m      8\u001b[0m xgb_model_result \u001b[38;5;241m=\u001b[39m [\u001b[38;5;28mround\u001b[39m(i,\u001b[38;5;241m4\u001b[39m) \u001b[38;5;28;01mfor\u001b[39;00m i \u001b[38;5;129;01min\u001b[39;00m xgb_model\u001b[38;5;241m.\u001b[39mpredict_proba(data5\u001b[38;5;241m.\u001b[39mvalues)[:,\u001b[38;5;241m1\u001b[39m]]\n",
      "\u001b[0;31mNameError\u001b[0m: name 'xres' is not defined"
     ]
    }
   ],
   "source": [
    "import pickle\n",
    "\n",
    "# 调用已保存的函数参数\n",
    "with open('xgboost_default_params.pkl', 'rb') as f:\n",
    "    default_params = pickle.load(f)\n",
    "xgb_model = xgb.XGBClassifier(**default_params)\n",
    "xgb_model.fit(xres,yres)\n",
    "xgb_model_result = [round(i,4) for i in xgb_model.predict_proba(data5.values)[:,1]]"
   ]
  },
  {
   "cell_type": "code",
   "execution_count": null,
   "id": "87124de9-7af4-4847-8201-d153a1b36d0d",
   "metadata": {},
   "outputs": [],
   "source": []
  }
 ],
 "metadata": {
  "kernelspec": {
   "display_name": "Python 3 (ipykernel)",
   "language": "python",
   "name": "python3"
  },
  "language_info": {
   "codemirror_mode": {
    "name": "ipython",
    "version": 3
   },
   "file_extension": ".py",
   "mimetype": "text/x-python",
   "name": "python",
   "nbconvert_exporter": "python",
   "pygments_lexer": "ipython3",
   "version": "3.11.4"
  }
 },
 "nbformat": 4,
 "nbformat_minor": 5
}
