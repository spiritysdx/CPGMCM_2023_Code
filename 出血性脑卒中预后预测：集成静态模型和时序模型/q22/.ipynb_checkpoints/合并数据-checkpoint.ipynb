{
 "cells": [
  {
   "cell_type": "code",
   "execution_count": 3,
   "id": "d875e124-2ee2-4955-a703-726a855909ce",
   "metadata": {},
   "outputs": [
    {
     "name": "stderr",
     "output_type": "stream",
     "text": [
      "/tmp/ipykernel_5275/2468000219.py:6: FutureWarning: The behavior of DataFrame concatenation with empty or all-NA entries is deprecated. In a future version, this will no longer exclude empty or all-NA columns when determining the result dtypes. To retain the old behavior, exclude the relevant entries before the concat operation.\n",
      "  data_1=pd.concat([data_1,pd.read_excel(f'Q22填表答案_单值结果_{i}.0.xlsx')])\n"
     ]
    }
   ],
   "source": [
    "import pandas as pd\n",
    "U=globals()\n",
    "data_1=pd.DataFrame(columns=['ID','残差'])\n",
    "data_2=pd.DataFrame(columns=['ID','残差'])\n",
    "for i in range(5):\n",
    "    data_1=pd.concat([data_1,pd.read_excel(f'Q22填表答案_单值结果_{i}.0.xlsx')])\n",
    "    data_2=pd.concat([data_1,pd.read_excel(f'Q22填表答案_向量结果_{i}.0.xlsx')])\n",
    "datasorted_1 = data_1.sort_values('ID')\n",
    "datasorted_2 = data_2.sort_values('ID')\n",
    "\n",
    "datasorted_1.to_excel('Q22填表答案_单值结果.xlsx',index=False)\n",
    "datasorted_2.to_excel('Q22填表答案_向量结果.xlsx',index=False)"
   ]
  },
  {
   "cell_type": "code",
   "execution_count": null,
   "id": "fdcd0a14-2865-419c-bd44-5ef52d0cd896",
   "metadata": {},
   "outputs": [],
   "source": []
  }
 ],
 "metadata": {
  "kernelspec": {
   "display_name": "Python 3 (ipykernel)",
   "language": "python",
   "name": "python3"
  },
  "language_info": {
   "codemirror_mode": {
    "name": "ipython",
    "version": 3
   },
   "file_extension": ".py",
   "mimetype": "text/x-python",
   "name": "python",
   "nbconvert_exporter": "python",
   "pygments_lexer": "ipython3",
   "version": "3.11.4"
  }
 },
 "nbformat": 4,
 "nbformat_minor": 5
}
