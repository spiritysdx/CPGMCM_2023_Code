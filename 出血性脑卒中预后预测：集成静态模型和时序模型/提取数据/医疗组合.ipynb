{
 "cells": [
  {
   "cell_type": "code",
   "execution_count": 29,
   "id": "e789916f-3ac2-4f40-9d15-17597b266501",
   "metadata": {
    "tags": []
   },
   "outputs": [],
   "source": [
    "import pandas as pd\n",
    "\n",
    "\n",
    "def compare_length(item):\n",
    "    return len(item)\n",
    "\n",
    "\n",
    "sdata=pd.read_excel('2c治疗方案.xlsx')\n",
    "\n",
    "column=list(sdata.columns)[1:]\n",
    "res=[]\n",
    "\n",
    "for ind in sdata.index:\n",
    "    mid_data=sdata[sdata.index==ind]\n",
    "    c=[]\n",
    "    for col in list(sdata.columns)[1:]:\n",
    "        if mid_data[col][ind]==1:\n",
    "            c.append(col)\n",
    "    if c not in res:\n",
    "        res.append(c)\n",
    "        \n",
    "columns=sorted(res,key=compare_length)\n",
    "rdata=pd.DataFrame(columns=['ID']+[str(i) for i in columns],index=sdata.index)\n",
    "rdata['ID']=sdata['ID']\n",
    "for col in range(len(columns)):\n",
    "    for ind in sdata.index:\n",
    "        l=0\n",
    "        if (sum([sdata[i][ind] for i in columns[col]])-len(columns[col]))==0:\n",
    "            l=1\n",
    "        rdata[str(columns[col])][ind]=l\n",
    "rdata.to_excel('治疗方案.xlsx',index=False)"
   ]
  },
  {
   "cell_type": "code",
   "execution_count": null,
   "id": "b05695ca-aef1-43dd-972b-42f5fbc20e84",
   "metadata": {},
   "outputs": [],
   "source": []
  },
  {
   "cell_type": "code",
   "execution_count": null,
   "id": "e21f025b-d12a-416e-a716-051555159a42",
   "metadata": {},
   "outputs": [],
   "source": []
  }
 ],
 "metadata": {
  "kernelspec": {
   "display_name": "Python 3 (ipykernel)",
   "language": "python",
   "name": "python3"
  },
  "language_info": {
   "codemirror_mode": {
    "name": "ipython",
    "version": 3
   },
   "file_extension": ".py",
   "mimetype": "text/x-python",
   "name": "python",
   "nbconvert_exporter": "python",
   "pygments_lexer": "ipython3",
   "version": "3.11.4"
  }
 },
 "nbformat": 4,
 "nbformat_minor": 5
}
