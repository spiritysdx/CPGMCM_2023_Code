{
 "cells": [
  {
   "cell_type": "code",
   "execution_count": 36,
   "id": "c20503e9-f5c3-4b02-87f7-df611c873203",
   "metadata": {
    "tags": []
   },
   "outputs": [
    {
     "name": "stdout",
     "output_type": "stream",
     "text": [
      "         ID  90天mRS 数据集划分     入院首次影像检查流水号  年龄 性别  脑出血前mRS评分  高血压病史  卒中病史  \\\n",
      "0    sub001     4.0    训练  20161212002136  43  女          0      0     0   \n",
      "1    sub002     0.0    训练  20160406002131  58  男          0      1     0   \n",
      "2    sub003     5.0    训练  20160413000006  78  男          0      1     0   \n",
      "3    sub004     4.0    训练  20161215001667  70  男          2      1     1   \n",
      "4    sub005     3.0    训练  20161222000978  51  男          0      0     0   \n",
      "..      ...     ...   ...             ...  .. ..        ...    ...   ...   \n",
      "155  sub156     NaN   测试2  20200306000927  87  女          0      1     0   \n",
      "156  sub157     NaN   测试2  20201009003102  52  男          2      1     1   \n",
      "157  sub158     NaN   测试2  20200410001952  57  男          0      1     0   \n",
      "158  sub159     NaN   测试2  20200218000582  47  男          0      1     0   \n",
      "159  sub160     NaN   测试2  20200821002584  80  女          0      1     0   \n",
      "\n",
      "     糖尿病史  ...  饮酒史  发病到首次影像检查时间间隔       血压  脑室引流  止血治疗 降颅压治疗  降压治疗  镇静、镇痛治疗  \\\n",
      "0       0  ...    0            2.5   180/90     0     1     1     1        1   \n",
      "1       0  ...    0            3.0  199/120     0     1     1     1        0   \n",
      "2       0  ...    0            2.0  199/120     0     1     1     1        1   \n",
      "3       0  ...    0            1.0   186/99     0     1     1     1        0   \n",
      "4       0  ...    0            5.0   135/92     0     1     1     0        0   \n",
      "..    ...  ...  ...            ...      ...   ...   ...   ...   ...      ...   \n",
      "155     0  ...    0            5.5  202/100     0     1     1     1        0   \n",
      "156     0  ...    0            0.5  180/110     1     0     1     1        1   \n",
      "157     0  ...    0            2.8  233/135     0     1     1     1        1   \n",
      "158     0  ...    1            3.0  183/122     0     1     1     1        1   \n",
      "159     1  ...    0            4.0   208/95     1     1     1     1        1   \n",
      "\n",
      "     止吐护胃  营养神经  \n",
      "0       1     1  \n",
      "1       1     1  \n",
      "2       1     1  \n",
      "3       0     0  \n",
      "4       1     1  \n",
      "..    ...   ...  \n",
      "155     1     1  \n",
      "156     1     1  \n",
      "157     1     1  \n",
      "158     1     1  \n",
      "159     1     1  \n",
      "\n",
      "[160 rows x 23 columns]\n"
     ]
    }
   ],
   "source": [
    "import pandas as pd\n",
    "data1=pd.read_excel('表1.xlsx')\n",
    "data2=pd.read_excel('表3.xlsx')\n",
    "data3_ED=pd.read_excel('表3.xlsx',sheet_name='ED')\n",
    "data3_Hemo=pd.read_excel('表3.xlsx',sheet_name='Hemo')\n",
    "data1.rename(columns={list(data1.columns)[0]:'ID'},inplace=True)\n",
    "data2=data2[list(data2.columns)[1:24]]\n",
    "data3_ED=data3_ED[list(data3_ED.columns)[1:]]#去掉备注列\n",
    "data3_Hemo=data3_Hemo[list(data3_Hemo.columns)[1:]]\n",
    "data3_ED.columns=[f'{i}.ED' for i in list(data3_ED.columns)]#对两个sheet的列名重命名\n",
    "data3_Hemo.columns=[f'{i}.Hemo' for i in list(data3_Hemo.columns)]\n",
    "data1=data1.rename(columns={'入院首次影像检查流水号':'流水号'})\n",
    "data2=data2.rename(columns={'首次检查流水号':'流水号'})\n",
    "data3_ED=data3_ED.rename(columns={'流水号.ED':'流水号'})\n",
    "data3_Hemo=data3_Hemo.rename(columns={'流水号.Hemo':'流水号'})\n",
    "data=pd.merge(data1,data2,how='inner',on='流水号')\n",
    "data=pd.merge(data,data3_ED,how='inner',on='流水号')\n",
    "data=pd.merge(data,data3_Hemo,how='inner',on='流水号')\n",
    "\n",
    "data.to_excel('3a数据.xlsx',index=False)"
   ]
  },
  {
   "cell_type": "code",
   "execution_count": null,
   "id": "0cba4fc8-fe62-44cc-a7e1-7d8e03698989",
   "metadata": {},
   "outputs": [],
   "source": []
  }
 ],
 "metadata": {
  "kernelspec": {
   "display_name": "Python 3 (ipykernel)",
   "language": "python",
   "name": "python3"
  },
  "language_info": {
   "codemirror_mode": {
    "name": "ipython",
    "version": 3
   },
   "file_extension": ".py",
   "mimetype": "text/x-python",
   "name": "python",
   "nbconvert_exporter": "python",
   "pygments_lexer": "ipython3",
   "version": "3.11.4"
  }
 },
 "nbformat": 4,
 "nbformat_minor": 5
}
