{
 "cells": [
  {
   "cell_type": "code",
   "execution_count": 1,
   "id": "c20503e9-f5c3-4b02-87f7-df611c873203",
   "metadata": {
    "tags": []
   },
   "outputs": [],
   "source": [
    "import pandas as pd\n",
    "data1=pd.read_excel('表1.xlsx')\n",
    "data2=pd.read_excel('表2.xlsx')\n",
    "data3_ED=pd.read_excel('表3.xlsx',sheet_name='ED')\n",
    "data3_Hemo=pd.read_excel('表3.xlsx',sheet_name='Hemo')\n",
    "data1.rename(columns={list(data1.columns)[0]:'ID'},inplace=True)\n",
    "data2=data2[list(data2.columns)[1:24]]\n",
    "data3_ED=data3_ED[list(data3_ED.columns)[1:]]#去掉备注列\n",
    "data3_Hemo=data3_Hemo[list(data3_Hemo.columns)[1:]]\n",
    "data3_ED.columns=[f'{i}.ED' for i in list(data3_ED.columns)]#对两个sheet的列名重命名\n",
    "data3_Hemo.columns=[f'{i}.Hemo' for i in list(data3_Hemo.columns)]\n",
    "data1=data1.rename(columns={'入院首次影像检查流水号':'流水号'})\n",
    "data2=data2.rename(columns={'首次检查流水号':'流水号'})\n",
    "data3_ED=data3_ED.rename(columns={'流水号.ED':'流水号'})\n",
    "data3_Hemo=data3_Hemo.rename(columns={'流水号.Hemo':'流水号'})\n",
    "data=pd.merge(data1,data2,how='inner',on='流水号')\n",
    "data=pd.merge(data,data3_ED,how='inner',on='流水号')\n",
    "data=pd.merge(data,data3_Hemo,how='inner',on='流水号')\n",
    "\n",
    "data.to_excel('3a数据.xlsx',index=False)"
   ]
  },
  {
   "cell_type": "code",
   "execution_count": null,
   "id": "0cba4fc8-fe62-44cc-a7e1-7d8e03698989",
   "metadata": {},
   "outputs": [],
   "source": []
  }
 ],
 "metadata": {
  "kernelspec": {
   "display_name": "Python 3 (ipykernel)",
   "language": "python",
   "name": "python3"
  },
  "language_info": {
   "codemirror_mode": {
    "name": "ipython",
    "version": 3
   },
   "file_extension": ".py",
   "mimetype": "text/x-python",
   "name": "python",
   "nbconvert_exporter": "python",
   "pygments_lexer": "ipython3",
   "version": "3.11.4"
  }
 },
 "nbformat": 4,
 "nbformat_minor": 5
}
