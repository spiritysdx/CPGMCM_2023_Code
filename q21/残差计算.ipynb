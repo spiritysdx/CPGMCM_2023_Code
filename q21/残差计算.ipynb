{
 "cells": [
  {
   "cell_type": "code",
   "execution_count": 12,
   "id": "8ef3bc10-ba4c-4f9c-b7e0-dd035921124b",
   "metadata": {
    "tags": []
   },
   "outputs": [],
   "source": [
    "import pandas as pd\n",
    "import pandas as np\n",
    "data=pd.read_excel('Q21填表答案_向量结果.xlsx')\n",
    "def convert_coef_string(coef_str):\n",
    "    coef_str = coef_str.strip('[]')\n",
    "    coef_list = coef_str.split(',')\n",
    "    coef_matrix = np.array([float(val) for val in coef_list])\n",
    "    return coef_matrix\n",
    "\n",
    "# 使用apply函数将转换函数应用到data1['回归系数']列的每个元素\n",
    "data['残差'] = data['残差'].apply(convert_coef_string)\n",
    "data['单值']= data['残差']\n",
    "for i in range(len(data)):\n",
    "    data['单值'][i]=sum([abs(data['残差'][i][j]) for j in range(len(data['残差'][i]))])\n",
    "data.to_excel('全体残差新表.xlsx',index=False)"
   ]
  },
  {
   "cell_type": "code",
   "execution_count": 16,
   "id": "ed8fa7cd-44d6-4242-b4b7-a0a6da223ff0",
   "metadata": {},
   "outputs": [],
   "source": [
    "#q22\n",
    "import pandas as pd\n",
    "import pandas as np\n",
    "data=pd.read_excel('Q22填表答案_向量结果.xlsx')\n",
    "def convert_coef_string(coef_str):\n",
    "    coef_str = coef_str.strip('[]')\n",
    "    coef_list = coef_str.split(',')\n",
    "    coef_matrix = np.array([float(val) for val in coef_list])\n",
    "    return coef_matrix\n",
    "\n",
    "# 使用apply函数将转换函数应用到data1['回归系数']列的每个元素\n",
    "data['残差'] = data['残差'].apply(convert_coef_string)\n",
    "data['单值']= data['残差']\n",
    "for i in range(len(data)):\n",
    "    data['单值'][i]=sum([abs(data['残差'][i][j]) for j in range(len(data['残差'][i]))])\n",
    "data.to_excel('分组残差新表.xlsx',index=False)\n",
    "\n"
   ]
  },
  {
   "cell_type": "code",
   "execution_count": null,
   "id": "6a2f65c6-945f-474b-8db1-fefddf479302",
   "metadata": {},
   "outputs": [],
   "source": []
  }
 ],
 "metadata": {
  "kernelspec": {
   "display_name": "Python 3 (ipykernel)",
   "language": "python",
   "name": "python3"
  },
  "language_info": {
   "codemirror_mode": {
    "name": "ipython",
    "version": 3
   },
   "file_extension": ".py",
   "mimetype": "text/x-python",
   "name": "python",
   "nbconvert_exporter": "python",
   "pygments_lexer": "ipython3",
   "version": "3.11.4"
  }
 },
 "nbformat": 4,
 "nbformat_minor": 5
}
