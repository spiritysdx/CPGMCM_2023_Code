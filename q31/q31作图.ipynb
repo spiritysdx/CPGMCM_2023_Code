{
 "cells": [
  {
   "cell_type": "code",
   "execution_count": 1,
   "id": "1194fde1-4786-455b-807c-c58cce3244f8",
   "metadata": {
    "tags": []
   },
   "outputs": [
    {
     "name": "stderr",
     "output_type": "stream",
     "text": [
      "/root/miniconda3/envs/jupyter-env/lib/python3.11/site-packages/scipy/__init__.py:155: UserWarning: A NumPy version >=1.18.5 and <1.26.0 is required for this version of SciPy (detected version 1.26.0\n",
      "  warnings.warn(f\"A NumPy version >={np_minversion} and <{np_maxversion}\"\n"
     ]
    }
   ],
   "source": [
    "import seaborn as sns\n",
    "import plotly.express as px\n",
    "import matplotlib.pyplot as plt"
   ]
  },
  {
   "cell_type": "code",
   "execution_count": null,
   "id": "00c434fc-5283-487b-85ab-3e80778548a7",
   "metadata": {},
   "outputs": [],
   "source": [
    "import seaborn as sns\n",
    "import matplotlib.pyplot as plt\n",
    "\n",
    "# 设置整体主题和调色板\n",
    "sns.set_theme(style='whitegrid', palette='pastel')\n",
    "\n",
    "# 创建数据\n",
    "x = [1, 2, 3, 4, 5]\n",
    "y = [2, 4, 6, 8, 10]\n",
    "\n",
    "# 使用Seaborn绘制折线图\n",
    "sns.lineplot(x=x, y=y, linewidth=2.5, color='skyblue')\n",
    "\n",
    "# 设置标题和坐标轴标签\n",
    "plt.title('折线图示例', fontsize=14)\n",
    "plt.xlabel('X轴', fontsize=12)\n",
    "plt.ylabel('Y轴', fontsize=12)\n",
    "\n",
    "# 设置刻度标签的字体大小\n",
    "plt.xticks(fontsize=10)\n",
    "plt.yticks(fontsize=10)\n",
    "\n",
    "# 显示网格线\n",
    "plt.grid(True, linestyle='--', alpha=0.5)\n",
    "\n",
    "# 设置背景色为浅蓝色\n",
    "plt.gca().set_facecolor('lightblue')  # 修改这一行\n",
    "\n",
    "# 显示图像\n",
    "plt.show()\n"
   ]
  },
  {
   "cell_type": "code",
   "execution_count": null,
   "id": "e18fedc6-81b0-45e7-b406-da5276d9e7e2",
   "metadata": {},
   "outputs": [],
   "source": []
  }
 ],
 "metadata": {
  "kernelspec": {
   "display_name": "Python 3 (ipykernel)",
   "language": "python",
   "name": "python3"
  },
  "language_info": {
   "codemirror_mode": {
    "name": "ipython",
    "version": 3
   },
   "file_extension": ".py",
   "mimetype": "text/x-python",
   "name": "python",
   "nbconvert_exporter": "python",
   "pygments_lexer": "ipython3",
   "version": "3.11.4"
  }
 },
 "nbformat": 4,
 "nbformat_minor": 5
}
