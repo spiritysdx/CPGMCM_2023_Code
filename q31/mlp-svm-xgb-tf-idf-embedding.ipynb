{
 "cells": [
  {
   "cell_type": "markdown",
   "metadata": {
    "id": "d520add6-1d07-47c1-8ad1-f6a8c76ab6c0"
   },
   "source": [
    "# Hate Speech Detection on the Davidson Dataset\n",
    "## Models : MLP + SVM + XGB - TF-IDF Embedding"
   ]
  },
  {
   "cell_type": "code",
   "execution_count": 1,
   "metadata": {
    "id": "13809292-7c2a-4053-8648-5093317e3f30",
    "tags": []
   },
   "outputs": [
    {
     "name": "stderr",
     "output_type": "stream",
     "text": [
      "/root/miniconda3/envs/jupyter-env/lib/python3.11/site-packages/scipy/__init__.py:155: UserWarning: A NumPy version >=1.18.5 and <1.26.0 is required for this version of SciPy (detected version 1.26.0\n",
      "  warnings.warn(f\"A NumPy version >={np_minversion} and <{np_maxversion}\"\n"
     ]
    },
    {
     "ename": "ModuleNotFoundError",
     "evalue": "No module named 'tensorflow'",
     "output_type": "error",
     "traceback": [
      "\u001b[0;31m---------------------------------------------------------------------------\u001b[0m",
      "\u001b[0;31mModuleNotFoundError\u001b[0m                       Traceback (most recent call last)",
      "Cell \u001b[0;32mIn[1], line 2\u001b[0m\n\u001b[1;32m      1\u001b[0m \u001b[38;5;28;01mfrom\u001b[39;00m \u001b[38;5;21;01msklearn\u001b[39;00m\u001b[38;5;21;01m.\u001b[39;00m\u001b[38;5;21;01mfeature_extraction\u001b[39;00m\u001b[38;5;21;01m.\u001b[39;00m\u001b[38;5;21;01mtext\u001b[39;00m \u001b[38;5;28;01mimport\u001b[39;00m TfidfVectorizer\n\u001b[0;32m----> 2\u001b[0m \u001b[38;5;28;01mimport\u001b[39;00m \u001b[38;5;21;01mkeras\u001b[39;00m\n\u001b[1;32m      3\u001b[0m \u001b[38;5;28;01mimport\u001b[39;00m \u001b[38;5;21;01mpandas\u001b[39;00m \u001b[38;5;28;01mas\u001b[39;00m \u001b[38;5;21;01mpd\u001b[39;00m\n\u001b[1;32m      4\u001b[0m \u001b[38;5;28;01mimport\u001b[39;00m \u001b[38;5;21;01mnumpy\u001b[39;00m \u001b[38;5;28;01mas\u001b[39;00m \u001b[38;5;21;01mnp\u001b[39;00m\n",
      "File \u001b[0;32m~/miniconda3/envs/jupyter-env/lib/python3.11/site-packages/keras/__init__.py:21\u001b[0m\n\u001b[1;32m     15\u001b[0m \u001b[38;5;124;03m\"\"\"Implementation of the Keras API, the high-level API of TensorFlow.\u001b[39;00m\n\u001b[1;32m     16\u001b[0m \n\u001b[1;32m     17\u001b[0m \u001b[38;5;124;03mDetailed documentation and user guides are available at\u001b[39;00m\n\u001b[1;32m     18\u001b[0m \u001b[38;5;124;03m[keras.io](https://keras.io).\u001b[39;00m\n\u001b[1;32m     19\u001b[0m \u001b[38;5;124;03m\"\"\"\u001b[39;00m\n\u001b[1;32m     20\u001b[0m \u001b[38;5;66;03m# pylint: disable=unused-import\u001b[39;00m\n\u001b[0;32m---> 21\u001b[0m \u001b[38;5;28;01mfrom\u001b[39;00m \u001b[38;5;21;01mtensorflow\u001b[39;00m\u001b[38;5;21;01m.\u001b[39;00m\u001b[38;5;21;01mpython\u001b[39;00m \u001b[38;5;28;01mimport\u001b[39;00m tf2\n\u001b[1;32m     22\u001b[0m \u001b[38;5;28;01mfrom\u001b[39;00m \u001b[38;5;21;01mkeras\u001b[39;00m \u001b[38;5;28;01mimport\u001b[39;00m distribute\n\u001b[1;32m     24\u001b[0m \u001b[38;5;66;03m# See b/110718070#comment18 for more details about this import.\u001b[39;00m\n",
      "\u001b[0;31mModuleNotFoundError\u001b[0m: No module named 'tensorflow'"
     ]
    }
   ],
   "source": [
    "from sklearn.feature_extraction.text import TfidfVectorizer\n",
    "import keras\n",
    "import pandas as pd\n",
    "import numpy as np\n",
    "from itertools import chain\n",
    "from keras.models import Sequential\n",
    "from keras.initializers import Constant\n",
    "from keras.layers import Embedding, BatchNormalization, Dense, Flatten, Dropout, Bidirectional,Flatten, GlobalMaxPool1D,Dropout\n",
    "from keras.preprocessing.text import Tokenizer\n",
    "from keras.preprocessing.sequence import pad_sequences\n",
    "from keras.layers.embeddings import Embedding\n",
    "from keras.callbacks import ReduceLROnPlateau\n",
    "from tensorflow.keras.optimizers import Adam\n",
    "from tensorflow.keras.models import Sequential\n",
    "from keras.callbacks import ReduceLROnPlateau,CSVLogger\n",
    "import matplotlib.pyplot as plt\n",
    "from tqdm.notebook import tqdm\n",
    "from keras.utils import np_utils\n",
    "import pickle\n",
    "import tensorflow as tf\n",
    "import matplotlib.pyplot as plt\n",
    "from sklearn.model_selection import train_test_split\n",
    "from sklearn.metrics import accuracy_score, f1_score, confusion_matrix, classification_report\n",
    "import xgboost as xgb\n",
    "from sklearn import svm"
   ]
  },
  {
   "cell_type": "code",
   "execution_count": null,
   "metadata": {},
   "outputs": [],
   "source": []
  },
  {
   "cell_type": "markdown",
   "metadata": {},
   "source": [
    "## Data Extraction"
   ]
  },
  {
   "cell_type": "code",
   "execution_count": null,
   "metadata": {
    "execution": {
     "iopub.execute_input": "2022-08-14T15:44:39.047956Z",
     "iopub.status.busy": "2022-08-14T15:44:39.047294Z",
     "iopub.status.idle": "2022-08-14T15:44:39.102520Z",
     "shell.execute_reply": "2022-08-14T15:44:39.101488Z",
     "shell.execute_reply.started": "2022-08-14T15:44:39.047921Z"
    },
    "id": "418b0e5c-6929-478c-b5c6-fcda890dff36",
    "outputId": "6ab8624e-9d4e-4ea5-9d84-497b0901089e"
   },
   "outputs": [],
   "source": [
    "#Data Reading for Davidson Dataset\n",
    "nRowsRead = None # specify 'None' to read complete file\n",
    "df0 = pd.read_csv('../input/hateoffensive/labeled_data.csv', delimiter=',', nrows = nRowsRead)\n",
    "nRow, nCol = df0.shape\n",
    "print('There are {} rows and {} columns'.format(nRow, nCol))\n",
    "\n",
    "#Doing Transformation\n",
    "c=df0['class']\n",
    "df0.rename(columns={'tweet' : 'text',\n",
    "                   'class' : 'category'}, \n",
    "                    inplace=True)\n",
    "a=df0['text']\n",
    "b=df0['category'].map({0: 'hate_speech', 1: 'offensive_language',2: 'neither'})\n",
    "df= pd.concat([a,b,c], axis=1)\n",
    "df.rename(columns={'class' : 'label'}, \n",
    "                    inplace=True)\n",
    "\n",
    "hate, ofensive, neither = np.bincount(df['label'])\n",
    "total = hate + ofensive + neither\n",
    "print('Examples:\\n    Total: {}\\n    hate: {} ({:.2f}% of total)\\n'.format(\n",
    "    total, hate, 100 * hate / total))\n",
    "print('Examples:\\n    Total: {}\\n    Ofensive: {} ({:.2f}% of total)\\n'.format(\n",
    "    total, ofensive, 100 * ofensive / total))\n",
    "print('Examples:\\n    Total: {}\\n    Neither: {} ({:.2f}% of total)\\n'.format(\n",
    "    total, neither, 100 * neither / total))\n"
   ]
  },
  {
   "cell_type": "code",
   "execution_count": null,
   "metadata": {
    "execution": {
     "iopub.execute_input": "2022-08-14T15:44:39.544760Z",
     "iopub.status.busy": "2022-08-14T15:44:39.544161Z",
     "iopub.status.idle": "2022-08-14T15:44:39.606516Z",
     "shell.execute_reply": "2022-08-14T15:44:39.605553Z",
     "shell.execute_reply.started": "2022-08-14T15:44:39.544725Z"
    },
    "id": "S8VhXGuYNpXI",
    "outputId": "35d75cac-a3d8-4a13-e6f5-f41e4e88ffba"
   },
   "outputs": [],
   "source": [
    "x= df['text']\n",
    "y=df['label']\n",
    "\n",
    "hate, ofensive, neither = np.bincount(df['label'])\n",
    "total = hate + ofensive + neither\n",
    "print('Examples:\\n    Total: {}\\n    hate: {} ({:.2f}% of total)\\n'.format(\n",
    "    total, hate, 100 * hate / total))\n",
    "print('Examples:\\n    Total: {}\\n    Ofensive: {} ({:.2f}% of total)\\n'.format(\n",
    "    total, ofensive, 100 * ofensive / total))\n",
    "print('Examples:\\n    Total: {}\\n    Neither: {} ({:.2f}% of total)\\n'.format(\n",
    "    total, neither, 100 * neither / total))"
   ]
  },
  {
   "cell_type": "code",
   "execution_count": null,
   "metadata": {
    "execution": {
     "iopub.execute_input": "2022-08-14T15:44:40.758734Z",
     "iopub.status.busy": "2022-08-14T15:44:40.758369Z",
     "iopub.status.idle": "2022-08-14T15:44:40.766954Z",
     "shell.execute_reply": "2022-08-14T15:44:40.765950Z",
     "shell.execute_reply.started": "2022-08-14T15:44:40.758705Z"
    },
    "id": "QbbTVWEtJF-K"
   },
   "outputs": [],
   "source": [
    "#defining_class_weight for each class\n",
    "weight_class1 = (1 / hate)*(total)/3.0 \n",
    "weight_class2 = (1 / ofensive)*(total)/3.0\n",
    "weight_class3 = (1 / neither)*(total)/3.0\n",
    "class_weight = {0: weight_class1, 1: weight_class2, 2: weight_class3}\n",
    "\n",
    "tfidf = TfidfVectorizer(binary=True)"
   ]
  },
  {
   "cell_type": "code",
   "execution_count": null,
   "metadata": {
    "execution": {
     "iopub.execute_input": "2022-08-14T15:44:42.156564Z",
     "iopub.status.busy": "2022-08-14T15:44:42.155903Z",
     "iopub.status.idle": "2022-08-14T15:44:44.911275Z",
     "shell.execute_reply": "2022-08-14T15:44:44.910251Z",
     "shell.execute_reply.started": "2022-08-14T15:44:42.156527Z"
    },
    "id": "kZwmGE6eJKpE"
   },
   "outputs": [],
   "source": [
    "#splitting the dataset\n",
    "x_train, x_test, y_train, y_test = train_test_split(x, y, random_state=42)\n",
    "\n",
    "#for SVM and XGB\n",
    "Tfidf_vect = TfidfVectorizer(use_idf=True)\n",
    "Tfidf_vect.fit(x)\n",
    "Train_X_Tfidf = Tfidf_vect.transform(x_train)\n",
    "Test_X_Tfidf = Tfidf_vect.transform(x_test)\n",
    "\n",
    "\n",
    "#fitting and transforming datasets\n",
    "x = tfidf.fit_transform(x_train).todense()\n",
    "x_test = tfidf.transform(x_test).todense()    \n",
    "\n",
    "y_train_cat = np_utils.to_categorical(y_train)\n",
    "\n",
    "y_test_= y_test\n",
    "y_test_cat = np_utils.to_categorical(y_test)"
   ]
  },
  {
   "cell_type": "code",
   "execution_count": null,
   "metadata": {
    "execution": {
     "iopub.execute_input": "2022-08-14T15:44:44.913549Z",
     "iopub.status.busy": "2022-08-14T15:44:44.913155Z",
     "iopub.status.idle": "2022-08-14T15:44:44.919864Z",
     "shell.execute_reply": "2022-08-14T15:44:44.918905Z",
     "shell.execute_reply.started": "2022-08-14T15:44:44.913513Z"
    },
    "id": "wCyDoScJO-6C"
   },
   "outputs": [],
   "source": [
    "#creating model\n",
    "def MLP():\n",
    "  model = Sequential()\n",
    "  model.add(Dense(512, activation='relu')) #dense_layer\n",
    "  model.add(Dropout(0.2))#dropout_layer\n",
    "  model.add(Dense(3, activation=\"softmax\", name='classifier')) #classification_layer\n",
    "  model.compile(optimizer='adam',loss='categorical_crossentropy',metrics=['accuracy'])\n",
    "  return model"
   ]
  },
  {
   "cell_type": "code",
   "execution_count": null,
   "metadata": {
    "execution": {
     "iopub.execute_input": "2022-08-14T15:44:48.851173Z",
     "iopub.status.busy": "2022-08-14T15:44:48.850493Z",
     "iopub.status.idle": "2022-08-14T15:44:48.866185Z",
     "shell.execute_reply": "2022-08-14T15:44:48.865235Z",
     "shell.execute_reply.started": "2022-08-14T15:44:48.851136Z"
    },
    "id": "iyQEnXrOJSlc"
   },
   "outputs": [],
   "source": [
    "#building model\n",
    "mlp_model=MLP()"
   ]
  },
  {
   "cell_type": "code",
   "execution_count": null,
   "metadata": {
    "execution": {
     "iopub.execute_input": "2022-08-14T15:54:16.037943Z",
     "iopub.status.busy": "2022-08-14T15:54:16.037176Z",
     "iopub.status.idle": "2022-08-14T15:54:16.043814Z",
     "shell.execute_reply": "2022-08-14T15:54:16.042436Z",
     "shell.execute_reply.started": "2022-08-14T15:54:16.037906Z"
    }
   },
   "outputs": [],
   "source": [
    "Train_X_Tfidf.sort_indices()\n",
    "Test_X_Tfidf.sort_indices()"
   ]
  },
  {
   "cell_type": "code",
   "execution_count": null,
   "metadata": {
    "execution": {
     "iopub.execute_input": "2022-08-14T15:56:54.511045Z",
     "iopub.status.busy": "2022-08-14T15:56:54.510635Z",
     "iopub.status.idle": "2022-08-14T15:57:19.409524Z",
     "shell.execute_reply": "2022-08-14T15:57:19.408515Z",
     "shell.execute_reply.started": "2022-08-14T15:56:54.511014Z"
    },
    "id": "WJ2VXafEJVD0"
   },
   "outputs": [],
   "source": [
    "#running model\n",
    "mlp_history = mlp_model.fit(Train_X_Tfidf, \n",
    "                      y_train_cat, \n",
    "                      batch_size=128,\n",
    "                      epochs=20, \n",
    "                      validation_data=(Test_X_Tfidf, y_test_cat))"
   ]
  },
  {
   "cell_type": "code",
   "execution_count": null,
   "metadata": {
    "execution": {
     "iopub.execute_input": "2022-08-14T15:57:19.413045Z",
     "iopub.status.busy": "2022-08-14T15:57:19.412568Z",
     "iopub.status.idle": "2022-08-14T15:57:19.421268Z",
     "shell.execute_reply": "2022-08-14T15:57:19.420135Z",
     "shell.execute_reply.started": "2022-08-14T15:57:19.413012Z"
    },
    "id": "N9ERl5s5JXU9"
   },
   "outputs": [],
   "source": [
    "#creating graphs for accuracy and loss\n",
    "#fining_values\n",
    "history_dict = mlp_history.history\n",
    "print(history_dict.keys())\n",
    "acc = history_dict['accuracy']\n",
    "val_acc = history_dict['val_accuracy']\n",
    "loss = history_dict['loss']\n",
    "val_loss = history_dict['val_loss']\n",
    "epochs = range(1, len(acc) + 1)\n"
   ]
  },
  {
   "cell_type": "code",
   "execution_count": null,
   "metadata": {
    "execution": {
     "iopub.execute_input": "2022-08-14T15:57:43.787666Z",
     "iopub.status.busy": "2022-08-14T15:57:43.787126Z",
     "iopub.status.idle": "2022-08-14T15:57:44.320430Z",
     "shell.execute_reply": "2022-08-14T15:57:44.319291Z",
     "shell.execute_reply.started": "2022-08-14T15:57:43.787617Z"
    },
    "id": "zagNb7qjJbYO"
   },
   "outputs": [],
   "source": [
    "#defining_figures\n",
    "fig = plt.figure(figsize=(12, 10))\n",
    "fig.tight_layout()\n",
    "#1st_figure\n",
    "plt.subplot(2, 1, 1)\n",
    "plt.plot(epochs, loss, 'r', label='Training-loss')#training_loss\n",
    "plt.plot(epochs, val_loss, 'b', label='Validation-loss')#validation_loss\n",
    "plt.title('Training & validation Loss')\n",
    "plt.xlabel('Epochs-Count')\n",
    "plt.ylabel('Loss')\n",
    "plt.legend()\n",
    "#2nd_Figure\n",
    "plt.subplot(2, 1, 2)\n",
    "plt.plot(epochs, acc, 'r', label='Training-accuracy')#training_accuracy\n",
    "plt.plot(epochs, val_acc, 'b', label='Validation-accuracy')#validation_accuracy\n",
    "plt.title('Training & Validation Accuracy')\n",
    "plt.xlabel('Epochs-Count')\n",
    "plt.ylabel('Acc')\n",
    "plt.legend(loc='lower right')\n",
    "\n",
    "# y_test = np.array(list(chain.from_iterable(y_test)))"
   ]
  },
  {
   "cell_type": "code",
   "execution_count": null,
   "metadata": {
    "execution": {
     "iopub.execute_input": "2022-08-14T16:01:21.880188Z",
     "iopub.status.busy": "2022-08-14T16:01:21.879795Z",
     "iopub.status.idle": "2022-08-14T16:01:22.360788Z",
     "shell.execute_reply": "2022-08-14T16:01:22.359719Z",
     "shell.execute_reply.started": "2022-08-14T16:01:21.880156Z"
    },
    "id": "Y04Xqg6lJdyh"
   },
   "outputs": [],
   "source": [
    "#predicting\n",
    "y_pred = mlp_model.predict(Test_X_Tfidf, verbose=0)"
   ]
  },
  {
   "cell_type": "code",
   "execution_count": null,
   "metadata": {
    "execution": {
     "iopub.execute_input": "2022-08-14T16:02:05.638856Z",
     "iopub.status.busy": "2022-08-14T16:02:05.638493Z",
     "iopub.status.idle": "2022-08-14T16:02:05.659951Z",
     "shell.execute_reply": "2022-08-14T16:02:05.658889Z",
     "shell.execute_reply.started": "2022-08-14T16:02:05.638820Z"
    },
    "id": "Oq99o8l-Jf2u"
   },
   "outputs": [],
   "source": [
    "#creating reports\n",
    "print(confusion_matrix(y_test_, y_pred.argmax(axis = -1)))\n",
    "print(classification_report(y_test_, y_pred.argmax(axis = -1)))"
   ]
  },
  {
   "cell_type": "markdown",
   "metadata": {},
   "source": [
    "## SVM Model"
   ]
  },
  {
   "cell_type": "code",
   "execution_count": null,
   "metadata": {
    "execution": {
     "iopub.execute_input": "2022-08-14T16:02:13.283487Z",
     "iopub.status.busy": "2022-08-14T16:02:13.283134Z",
     "iopub.status.idle": "2022-08-14T16:03:00.237423Z",
     "shell.execute_reply": "2022-08-14T16:03:00.236379Z",
     "shell.execute_reply.started": "2022-08-14T16:02:13.283460Z"
    },
    "id": "IavVDLQuJhln"
   },
   "outputs": [],
   "source": [
    "#running SVM\n",
    "SVM = svm.SVC(C=1.0, kernel='linear', degree=3, gamma='auto',verbose=True,class_weight=class_weight, decision_function_shape=\"ovo\")\n",
    "SVM.fit(Train_X_Tfidf,y_train)"
   ]
  },
  {
   "cell_type": "code",
   "execution_count": null,
   "metadata": {
    "execution": {
     "iopub.execute_input": "2022-08-14T16:03:00.240205Z",
     "iopub.status.busy": "2022-08-14T16:03:00.239497Z",
     "iopub.status.idle": "2022-08-14T16:03:10.279219Z",
     "shell.execute_reply": "2022-08-14T16:03:10.278120Z",
     "shell.execute_reply.started": "2022-08-14T16:03:00.240167Z"
    },
    "id": "9f_RmKYvJjrI"
   },
   "outputs": [],
   "source": [
    "#predciting\n",
    "predictions_SVM = SVM.predict(Test_X_Tfidf)\n",
    "print(classification_report(y_test,predictions_SVM))"
   ]
  },
  {
   "cell_type": "markdown",
   "metadata": {},
   "source": [
    "## XGB Model"
   ]
  },
  {
   "cell_type": "code",
   "execution_count": null,
   "metadata": {
    "execution": {
     "iopub.execute_input": "2022-08-14T16:03:13.500539Z",
     "iopub.status.busy": "2022-08-14T16:03:13.500171Z",
     "iopub.status.idle": "2022-08-14T16:03:42.285911Z",
     "shell.execute_reply": "2022-08-14T16:03:42.285055Z",
     "shell.execute_reply.started": "2022-08-14T16:03:13.500510Z"
    },
    "id": "aUbtQhAxJlqY"
   },
   "outputs": [],
   "source": [
    "#running XGB\n",
    "xgb_classifier = xgb.XGBClassifier()\n",
    "xgb= xgb_classifier.fit(Train_X_Tfidf,y_train)"
   ]
  },
  {
   "cell_type": "code",
   "execution_count": null,
   "metadata": {
    "execution": {
     "iopub.execute_input": "2022-08-14T16:03:42.289343Z",
     "iopub.status.busy": "2022-08-14T16:03:42.288655Z",
     "iopub.status.idle": "2022-08-14T16:03:42.365843Z",
     "shell.execute_reply": "2022-08-14T16:03:42.365111Z",
     "shell.execute_reply.started": "2022-08-14T16:03:42.289306Z"
    },
    "id": "e_dIz7CnJnSv"
   },
   "outputs": [],
   "source": [
    "#predciting\n",
    "predictions_xgb = xgb.predict(Test_X_Tfidf)\n",
    "print(classification_report(y_test,predictions_xgb))\n"
   ]
  },
  {
   "cell_type": "code",
   "execution_count": null,
   "metadata": {
    "execution": {
     "iopub.execute_input": "2022-08-12T06:03:52.364827Z",
     "iopub.status.busy": "2022-08-12T06:03:52.364356Z",
     "iopub.status.idle": "2022-08-12T06:03:52.395181Z",
     "shell.execute_reply": "2022-08-12T06:03:52.394057Z",
     "shell.execute_reply.started": "2022-08-12T06:03:52.364792Z"
    }
   },
   "outputs": [],
   "source": [
    "# xgb.save_model(\"xgb_classifier.json\")"
   ]
  },
  {
   "cell_type": "code",
   "execution_count": null,
   "metadata": {
    "execution": {
     "iopub.execute_input": "2022-08-12T11:07:23.110354Z",
     "iopub.status.busy": "2022-08-12T11:07:23.109891Z",
     "iopub.status.idle": "2022-08-12T11:07:23.366336Z",
     "shell.execute_reply": "2022-08-12T11:07:23.365318Z",
     "shell.execute_reply.started": "2022-08-12T11:07:23.110317Z"
    }
   },
   "outputs": [],
   "source": [
    "# import xgboost as xg\n",
    "# booster = xg.Booster()\n",
    "# booster.load_model(\"../input/hsd-xgb-classifier/xgb_classifier.json\")\n"
   ]
  },
  {
   "cell_type": "code",
   "execution_count": null,
   "metadata": {
    "execution": {
     "iopub.execute_input": "2022-08-10T12:52:48.603711Z",
     "iopub.status.busy": "2022-08-10T12:52:48.603209Z",
     "iopub.status.idle": "2022-08-10T12:53:06.976078Z",
     "shell.execute_reply": "2022-08-10T12:53:06.975084Z",
     "shell.execute_reply.started": "2022-08-10T12:52:48.603672Z"
    }
   },
   "outputs": [],
   "source": [
    "# import json\n",
    "# from collections import OrderedDict\n",
    "# tf_idf = {}\n",
    "# for index,val in enumerate(Tfidf_vect.get_feature_names_out()):\n",
    "#     tf_idf[val] ={\"idf\":Tfidf_vect.idf_[index],\"index\":index}\n",
    "# with open('idf_values.json', 'w') as f:\n",
    "#     json.dump(tf_idf, f)"
   ]
  }
 ],
 "metadata": {
  "kernelspec": {
   "display_name": "Python 3 (ipykernel)",
   "language": "python",
   "name": "python3"
  },
  "language_info": {
   "codemirror_mode": {
    "name": "ipython",
    "version": 3
   },
   "file_extension": ".py",
   "mimetype": "text/x-python",
   "name": "python",
   "nbconvert_exporter": "python",
   "pygments_lexer": "ipython3",
   "version": "3.11.4"
  }
 },
 "nbformat": 4,
 "nbformat_minor": 4
}
