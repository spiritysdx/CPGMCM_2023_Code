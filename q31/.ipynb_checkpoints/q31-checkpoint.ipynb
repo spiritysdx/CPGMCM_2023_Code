{
 "cells": [
  {
   "cell_type": "code",
   "execution_count": 78,
   "id": "163d0fd9-66e9-4c45-8bdd-5a9fdc2f146e",
   "metadata": {
    "tags": []
   },
   "outputs": [],
   "source": [
    "import re\n",
    "import math\n",
    "import warnings\n",
    "import tqdm\n",
    "import matplotlib\n",
    "import numpy as np\n",
    "import pandas as pd\n",
    "import matplotlib.pyplot as plt\n",
    "from scipy.optimize import fsolve\n",
    "from sympy import symbols, Eq, solve\n",
    "from matplotlib.pyplot import MultipleLocator\n",
    "from sklearn.preprocessing import MinMaxScaler, Binarizer\n",
    "from sklearn.datasets import load_breast_cancer\n",
    "from sklearn.ensemble import RandomForestClassifier\n",
    "from sklearn.model_selection import GridSearchCV\n",
    "from sklearn.model_selection import cross_val_score\n",
    "from sklearn.cluster import KMeans\n",
    "from sklearn.metrics import silhouette_score, calinski_harabasz_score\n",
    "warnings.filterwarnings(\"ignore\")"
   ]
  },
  {
   "cell_type": "code",
   "execution_count": 79,
   "id": "9a969533-a831-4a68-8b05-fd285b41b45b",
   "metadata": {
    "tags": []
   },
   "outputs": [
    {
     "data": {
      "text/plain": [
       "(160, 106)"
      ]
     },
     "execution_count": 79,
     "metadata": {},
     "output_type": "execute_result"
    }
   ],
   "source": [
    "data1 = pd.read_excel('3a数据.xlsx').drop(['数据集划分'], axis=1)\n",
    "data1.shape"
   ]
  },
  {
   "cell_type": "code",
   "execution_count": 80,
   "id": "be176008-69ba-47d3-9e9a-fae8dff5b4f5",
   "metadata": {
    "tags": []
   },
   "outputs": [],
   "source": [
    "# 转换独热编码\n",
    "xueya_list = []\n",
    "for i in data1['血压']:\n",
    "    y1 = i.split('/')[0]\n",
    "    y2 = i.split('/')[1]\n",
    "    if int(y1) > 139 or int(y1) < 90:\n",
    "        status_i = 0\n",
    "    elif int(y2) > 89 or int(y2) < 60:\n",
    "        status_i = 0\n",
    "    else:\n",
    "        status_i = 1\n",
    "    xueya_list.append(status_i)\n",
    "data1['血压'] = np.array(xueya_list)\n",
    "data1['性别_男'] = data1['性别'].apply(lambda x: 1 if x == '男' else 0)\n",
    "data1['性别_女'] = data1['性别'].apply(lambda x: 1 if x == '女' else 0)\n",
    "data1 = data1.drop(columns=['性别'])\n",
    "x = data1['年龄'].values\n",
    "scaler = MinMaxScaler()\n",
    "x_normalized = scaler.fit_transform(x.reshape(-1, 1))\n",
    "binarizer = Binarizer(threshold=0.5)\n",
    "x_binarized = binarizer.fit_transform(x_normalized)\n",
    "data1['年龄'] = x_binarized\n",
    "data1 = data1.drop(['流水号'], axis = 1)"
   ]
  },
  {
   "cell_type": "code",
   "execution_count": 81,
   "id": "4fc14bd6-ddbf-477e-8039-ff1589823237",
   "metadata": {
    "tags": []
   },
   "outputs": [
    {
     "ename": "NameError",
     "evalue": "name 'drop' is not defined",
     "output_type": "error",
     "traceback": [
      "\u001b[0;31m---------------------------------------------------------------------------\u001b[0m",
      "\u001b[0;31mNameError\u001b[0m                                 Traceback (most recent call last)",
      "Cell \u001b[0;32mIn[81], line 1\u001b[0m\n\u001b[0;32m----> 1\u001b[0m data1[[i \u001b[38;5;28;01mfor\u001b[39;00m i \u001b[38;5;129;01min\u001b[39;00m \u001b[38;5;28mlist\u001b[39m(data1\u001b[38;5;241m.\u001b[39mcolumns) \u001b[38;5;28;01mif\u001b[39;00m \u001b[38;5;124m'\u001b[39m\u001b[38;5;124m_Ratio\u001b[39m\u001b[38;5;124m'\u001b[39m \u001b[38;5;129;01mnot\u001b[39;00m \u001b[38;5;129;01min\u001b[39;00m i]],drop([\u001b[38;5;124m'\u001b[39m\u001b[38;5;124mID\u001b[39m\u001b[38;5;124m'\u001b[39m], axis \u001b[38;5;241m=\u001b[39m \u001b[38;5;241m1\u001b[39m)\u001b[38;5;241m.\u001b[39mto_csv(\u001b[38;5;124m'\u001b[39m\u001b[38;5;124mdata2_ori.csv\u001b[39m\u001b[38;5;124m'\u001b[39m)\n",
      "\u001b[0;31mNameError\u001b[0m: name 'drop' is not defined"
     ]
    }
   ],
   "source": [
    "data1[[i for i in list(data1.columns) if '_Ratio' not in i]],drop(['ID'], axis = 1).to_csv('data2_ori.csv')"
   ]
  },
  {
   "cell_type": "code",
   "execution_count": null,
   "id": "c16d1c43-feaa-434a-afc2-be5324cfb140",
   "metadata": {
    "tags": []
   },
   "outputs": [],
   "source": [
    "data1['HM_MCA_R_Ratio']"
   ]
  },
  {
   "cell_type": "code",
   "execution_count": 82,
   "id": "a586f18e-63b5-49cb-9c5e-3f0c8388dfb7",
   "metadata": {
    "tags": []
   },
   "outputs": [],
   "source": [
    "# # 归一化\n",
    "# # 比例变量变数值变量，归一化的是数值变量\n",
    "# # 假设data1是你的数据框\n",
    "# hm_columns = data1.filter(like='HM_').columns.tolist()\n",
    "# ed_columns = data1.filter(like='ED_').columns.tolist()\n",
    "# hm_columns.pop(0)\n",
    "# ed_columns.pop(0)\n",
    "# # 获取'HM_volume'和'ED_volume.0'列的值\n",
    "# hm_volume = data1['HM_volume']\n",
    "# ed_volume = data1['ED_volume.0']\n",
    "# # 将以'HM_'开头的列与'HM_volume'相乘\n",
    "# data1[hm_columns] = data1[hm_columns].mul(hm_volume, axis=0)\n",
    "# # 将以'ED_'开头的列与'ED_volume.0'相乘\n",
    "# data1[ed_columns] = data1[ed_columns].mul(ed_volume, axis=0)\n",
    "# # 创建 MinMaxScaler 对象\n",
    "# scaler = MinMaxScaler()\n",
    "# # 选择要归一化的列（除了 '年龄' 列之外的所有列）\n",
    "# columns_to_normalize = [col for col in data1.columns if col != '性别' and col != 'ID' and col != '90天mRS']\n",
    "# # 使用 MinMaxScaler 对所选列进行归一化\n",
    "# data1[columns_to_normalize] = scaler.fit_transform(data1[columns_to_normalize])"
   ]
  },
  {
   "cell_type": "code",
   "execution_count": 83,
   "id": "42bdd229-c0bd-4dca-a6a9-9861cdf3b4e7",
   "metadata": {
    "tags": []
   },
   "outputs": [],
   "source": [
    "# data1['HM_MCA_R_Ratio']"
   ]
  },
  {
   "cell_type": "code",
   "execution_count": 84,
   "id": "296f5906-479e-4a91-9657-dad1b64cffe0",
   "metadata": {
    "tags": []
   },
   "outputs": [],
   "source": [
    "# data2 = data1.drop(['HM_volume', 'ED_volume.0', 'ID'], axis = 1)\n",
    "# data2"
   ]
  },
  {
   "cell_type": "code",
   "execution_count": 85,
   "id": "394fdd62-684c-45f9-95b2-61d129a04ecb",
   "metadata": {
    "tags": []
   },
   "outputs": [],
   "source": [
    "# data2.to_csv('data2_ori.csv')"
   ]
  },
  {
   "cell_type": "code",
   "execution_count": 86,
   "id": "0357cb6e-4c2d-45d1-aed5-a9c3fad8a439",
   "metadata": {
    "tags": []
   },
   "outputs": [],
   "source": [
    "# data2_p1 = data2[:100]\n",
    "# data2_p2 = data2[100:]"
   ]
  },
  {
   "cell_type": "code",
   "execution_count": 87,
   "id": "c07f0d65-3a86-448b-9d98-ad17f75e791f",
   "metadata": {
    "tags": []
   },
   "outputs": [],
   "source": [
    "# data2_p1.head()"
   ]
  },
  {
   "cell_type": "code",
   "execution_count": 88,
   "id": "2a6cbbd0-4fef-4825-a3d5-2fef40b7df32",
   "metadata": {
    "tags": []
   },
   "outputs": [],
   "source": [
    "# data2_need_pca = data1.drop(['HM_volume', 'ED_volume.0', 'ID'], axis = 1)\n",
    "# data2_need_pca.head()"
   ]
  },
  {
   "cell_type": "code",
   "execution_count": 89,
   "id": "3e1aa734-93e9-4a03-ae49-c6ea6306a7a4",
   "metadata": {
    "tags": []
   },
   "outputs": [],
   "source": [
    "# import pandas as pd\n",
    "# from sklearn.decomposition import PCA\n",
    "# from sklearn.preprocessing import StandardScaler\n",
    "# import matplotlib.pyplot as plt\n",
    "\n",
    "# # 假设data1是你的DataFrame，其中第一列是y，其他列是x\n",
    "# y = data2_need_pca.iloc[:, 0]\n",
    "# X = data2_need_pca.iloc[:, 1:]\n",
    "\n",
    "# # 数据标准化\n",
    "# scaler = StandardScaler()\n",
    "# X_scaled = scaler.fit_transform(X)\n",
    "\n",
    "# # 初始化PCA模型\n",
    "# pca = PCA()\n",
    "\n",
    "# # 拟合PCA模型\n",
    "# pca.fit(X_scaled)\n",
    "\n",
    "# # 累积解释方差比例\n",
    "# explained_variance_ratio = pca.explained_variance_ratio_\n",
    "# cumulative_explained_variance = explained_variance_ratio.cumsum()\n",
    "\n",
    "# # 绘制累积解释方差比例的图形\n",
    "# plt.figure(figsize=(10, 6))\n",
    "# plt.plot(range(1, len(cumulative_explained_variance) + 1), cumulative_explained_variance, marker='o', linestyle='--')\n",
    "# plt.xlabel('Number of Principal Components')\n",
    "# plt.ylabel('Cumulative Explained Variance')\n",
    "# plt.title('Cumulative Explained Variance vs. Number of Principal Components')\n",
    "# plt.grid()\n",
    "# plt.show()\n"
   ]
  },
  {
   "cell_type": "code",
   "execution_count": 90,
   "id": "7d634971-e111-4406-9f99-88d0fdbdc436",
   "metadata": {
    "tags": []
   },
   "outputs": [],
   "source": [
    "# # 寻找最接近0.9的累积解释方差的维度\n",
    "# target_variance = 0.9\n",
    "# optimal_dimension = next(i for i, var in enumerate(cumulative_explained_variance) if var >= target_variance) + 1  # 加1是因为索引从0开始\n",
    "\n",
    "# # 根据最优维度重新进行PCA\n",
    "# pca = PCA(n_components=optimal_dimension)\n",
    "# X_pca = pca.fit_transform(X_scaled)\n",
    "\n",
    "# # 创建一个新的DataFrame包含最优维度的主成分\n",
    "# column_names = [f\"PC{i+1}\" for i in range(optimal_dimension)]\n",
    "# df_pca = pd.DataFrame(data=X_pca, columns=column_names)\n",
    "\n",
    "# # 将y列添加回DataFrame\n",
    "# df_pca['y'] = y\n",
    "\n",
    "# # 打印最优维度\n",
    "# print(f\"最优维度: {optimal_dimension}\")\n",
    "\n",
    "# # 保存新的DataFrame到文件\n",
    "# df_pca.to_csv('pca_result.csv', index=False)  # 保存到csv文件中，你可以修改文件名和路径\n",
    "\n",
    "# # 打印新的DataFrame的前几行\n",
    "# df_pca.head()"
   ]
  },
  {
   "cell_type": "code",
   "execution_count": null,
   "id": "ac2e509b-db89-4a28-b8b4-ba308f0928a4",
   "metadata": {},
   "outputs": [],
   "source": []
  },
  {
   "cell_type": "code",
   "execution_count": 91,
   "id": "523fd8af-8a1a-43dc-98e7-f544cc03d11a",
   "metadata": {
    "tags": []
   },
   "outputs": [],
   "source": [
    "# df_pca.to_csv('q31_df_pca.csv', index=False)"
   ]
  },
  {
   "cell_type": "code",
   "execution_count": null,
   "id": "5675b517-a86b-4f42-9f81-b3929fac3328",
   "metadata": {},
   "outputs": [],
   "source": []
  },
  {
   "cell_type": "code",
   "execution_count": null,
   "id": "f930d73e-b07b-4ba7-b44b-fd43fe41f2fa",
   "metadata": {},
   "outputs": [],
   "source": []
  },
  {
   "cell_type": "code",
   "execution_count": null,
   "id": "a7617c04-8d69-47b3-bbd5-21ee94b06790",
   "metadata": {},
   "outputs": [],
   "source": []
  }
 ],
 "metadata": {
  "kernelspec": {
   "display_name": "Python 3 (ipykernel)",
   "language": "python",
   "name": "python3"
  },
  "language_info": {
   "codemirror_mode": {
    "name": "ipython",
    "version": 3
   },
   "file_extension": ".py",
   "mimetype": "text/x-python",
   "name": "python",
   "nbconvert_exporter": "python",
   "pygments_lexer": "ipython3",
   "version": "3.11.4"
  }
 },
 "nbformat": 4,
 "nbformat_minor": 5
}
