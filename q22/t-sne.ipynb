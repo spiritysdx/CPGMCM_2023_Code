{
 "cells": [
  {
   "cell_type": "code",
   "execution_count": 1,
   "id": "2b6ee050-3198-4083-a1ea-085671613daf",
   "metadata": {
    "tags": []
   },
   "outputs": [],
   "source": [
    "# install.packages(\"showtext\")\n",
    "\n",
    "# library(showtext)\n",
    "\n",
    "# 指定字体文件路径\n",
    "# font_path <- \"/usr/share/fonts/truetype/wqy/wqy-zenhei.ttc\"\n",
    "\n",
    "# 路径查找\n",
    "# terminal中查找\n",
    "# fc-list :lang=zh-cn | grep 'SimSun'\n",
    "# fc-list :lang=zh-cn | grep 'SimHei'\n",
    "# fc-list :lang=zh-cn | grep 'Microsoft YaHei'\n",
    "# fc-list :lang=zh-cn | grep 'WenQuanYi Zen Hei'\n",
    "# 其中之一\n",
    "\n",
    "# 加载字体\n",
    "# font_add(\"WenQuanYi Zen Hei\", regular = font_path)\n",
    "\n",
    "# 设置默认字体为中文字体\n",
    "# showtext_auto()\n",
    "# showtext_opts(defaultfont = \"WenQuanYi Zen Hei\")\n"
   ]
  },
  {
   "cell_type": "code",
   "execution_count": 2,
   "id": "928691a6-58c4-4a7e-a728-729002218a2b",
   "metadata": {
    "tags": []
   },
   "outputs": [
    {
     "name": "stderr",
     "output_type": "stream",
     "text": [
      "Warning message:\n",
      "“no DISPLAY variable so Tk is not available”\n"
     ]
    },
    {
     "ename": "ERROR",
     "evalue": "Error in library(xlsx): there is no package called ‘xlsx’\n",
     "output_type": "error",
     "traceback": [
      "Error in library(xlsx): there is no package called ‘xlsx’\nTraceback:\n",
      "1. library(xlsx)"
     ]
    }
   ],
   "source": [
    "# 安装必要的包\n",
    "# install.packages(\"tsne\")\n",
    "# install.packages(\"plot3D\")\n",
    "# install.packages(\"xlsx\")\n",
    "\n",
    "# 加载所需的包\n",
    "library(tsne)\n",
    "library(plot3D)\n",
    "library(xlsx)\n",
    "\n",
    "# 读取数据集\n",
    "data <- read.xlsx(\"2b数据处理结果.xlsx\", sheetName = \"Sheet1\")\n",
    "\n",
    "# 提取特征列\n",
    "features <- data[, -1]  # 假设第一列是标签列，去掉它\n",
    "\n",
    "# 进行t-SNE降维\n",
    "tsne_result <- Rtsne(features)\n",
    "\n",
    "# 创建一个新的3D绘图窗口\n",
    "windows3d()\n",
    "\n",
    "# 绘制散点图\n",
    "scatter3D(tsne_result$Y[, 1], tsne_result$Y[, 2], tsne_result$Y[, 3], \n",
    "          colvar = NULL, col = \"blue\", size = 5)\n",
    "\n",
    "# 保存绘图为PDF文件\n",
    "rgl.postscript(\"tsne_3d_plot.pdf\", fmt = \"pdf\")\n"
   ]
  },
  {
   "cell_type": "code",
   "execution_count": 3,
   "id": "34b3409f-4637-4006-b56c-89629937e816",
   "metadata": {
    "tags": []
   },
   "outputs": [],
   "source": [
    "# ps -ef | grep Xorg\n",
    "# sudo /usr/bin/Xorg :0\n",
    "# echo $DISPLAY\n",
    "# export DISPLAY=:0"
   ]
  },
  {
   "cell_type": "code",
   "execution_count": 8,
   "id": "408e325b-8077-4279-a420-0009ca847b10",
   "metadata": {
    "tags": []
   },
   "outputs": [
    {
     "name": "stderr",
     "output_type": "stream",
     "text": [
      "also installing the dependencies ‘rJava’, ‘xlsxjars’\n",
      "\n",
      "\n",
      "Warning message in install.packages(\"xlsx\"):\n",
      "“installation of package ‘rJava’ had non-zero exit status”\n",
      "Warning message in install.packages(\"xlsx\"):\n",
      "“installation of package ‘xlsxjars’ had non-zero exit status”\n",
      "Warning message in install.packages(\"xlsx\"):\n",
      "“installation of package ‘xlsx’ had non-zero exit status”\n",
      "Updating HTML index of packages in '.Library'\n",
      "\n",
      "Making 'packages.html' ...\n",
      " done\n",
      "\n"
     ]
    },
    {
     "ename": "ERROR",
     "evalue": "Error in library(xlsx): there is no package called ‘xlsx’\n",
     "output_type": "error",
     "traceback": [
      "Error in library(xlsx): there is no package called ‘xlsx’\nTraceback:\n",
      "1. library(xlsx)"
     ]
    }
   ],
   "source": [
    "install.packages(\"xlsx\")\n",
    "library(xlsx)"
   ]
  },
  {
   "cell_type": "code",
   "execution_count": 7,
   "id": "d604cdac-9b5e-4b7e-98f4-7af8f88d6f8f",
   "metadata": {
    "tags": []
   },
   "outputs": [
    {
     "name": "stderr",
     "output_type": "stream",
     "text": [
      "also installing the dependency ‘rJava’\n",
      "\n",
      "\n",
      "Warning message in install.packages(\"xlsxjars\"):\n",
      "“installation of package ‘rJava’ had non-zero exit status”\n",
      "Warning message in install.packages(\"xlsxjars\"):\n",
      "“installation of package ‘xlsxjars’ had non-zero exit status”\n",
      "Updating HTML index of packages in '.Library'\n",
      "\n",
      "Making 'packages.html' ...\n",
      " done\n",
      "\n"
     ]
    }
   ],
   "source": [
    "install.packages(\"xlsxjars\")\n"
   ]
  }
 ],
 "metadata": {
  "kernelspec": {
   "display_name": "R",
   "language": "R",
   "name": "ir"
  },
  "language_info": {
   "codemirror_mode": "r",
   "file_extension": ".r",
   "mimetype": "text/x-r-source",
   "name": "R",
   "pygments_lexer": "r",
   "version": "4.2.0"
  }
 },
 "nbformat": 4,
 "nbformat_minor": 5
}
