{
 "cells": [
  {
   "cell_type": "code",
   "execution_count": 5,
   "id": "2b6ee050-3198-4083-a1ea-085671613daf",
   "metadata": {
    "tags": []
   },
   "outputs": [],
   "source": [
    "# install.packages(\"showtext\")\n",
    "\n",
    "# library(showtext)\n",
    "\n",
    "# 指定字体文件路径\n",
    "# font_path <- \"/usr/share/fonts/truetype/wqy/wqy-zenhei.ttc\"\n",
    "\n",
    "# 路径查找\n",
    "# terminal中查找\n",
    "# fc-list :lang=zh-cn | grep 'SimSun'\n",
    "# fc-list :lang=zh-cn | grep 'SimHei'\n",
    "# fc-list :lang=zh-cn | grep 'Microsoft YaHei'\n",
    "# fc-list :lang=zh-cn | grep 'WenQuanYi Zen Hei'\n",
    "# 其中之一\n",
    "\n",
    "# 加载字体\n",
    "# font_add(\"WenQuanYi Zen Hei\", regular = font_path)\n",
    "\n",
    "# 设置默认字体为中文字体\n",
    "# showtext_auto()\n",
    "# showtext_opts(defaultfont = \"WenQuanYi Zen Hei\")\n"
   ]
  },
  {
   "cell_type": "code",
   "execution_count": 4,
   "id": "928691a6-58c4-4a7e-a728-729002218a2b",
   "metadata": {
    "tags": []
   },
   "outputs": [
    {
     "name": "stderr",
     "output_type": "stream",
     "text": [
      "also installing the dependency ‘misc3d’\n",
      "\n",
      "\n",
      "Updating HTML index of packages in '.Library'\n",
      "\n",
      "Making 'packages.html' ...\n",
      " done\n",
      "\n",
      "also installing the dependencies ‘cli’, ‘lifecycle’, ‘rlang’, ‘rematch’, ‘magrittr’, ‘pillar’, ‘pkgconfig’, ‘vctrs’, ‘hms’, ‘prettyunits’, ‘R6’, ‘cellranger’, ‘tibble’, ‘cpp11’, ‘progress’\n",
      "\n",
      "\n",
      "Updating HTML index of packages in '.Library'\n",
      "\n",
      "Making 'packages.html' ...\n",
      " done\n",
      "\n",
      "also installing the dependencies ‘fastmap’, ‘fs’, ‘rappdirs’, ‘cachem’, ‘memoise’, ‘sass’, ‘stringi’, ‘bslib’, ‘fontawesome’, ‘jquerylib’, ‘stringr’, ‘tinytex’, ‘htmltools’, ‘yaml’, ‘rmarkdown’, ‘highr’, ‘xfun’, ‘htmlwidgets’, ‘knitr’, ‘mime’\n",
      "\n",
      "\n",
      "Warning message in install.packages(\"rgl\"):\n",
      "“installation of package ‘stringi’ had non-zero exit status”\n",
      "Warning message in install.packages(\"rgl\"):\n",
      "“installation of package ‘stringr’ had non-zero exit status”\n",
      "Warning message in install.packages(\"rgl\"):\n",
      "“installation of package ‘rmarkdown’ had non-zero exit status”\n",
      "Warning message in install.packages(\"rgl\"):\n",
      "“installation of package ‘htmlwidgets’ had non-zero exit status”\n",
      "Warning message in install.packages(\"rgl\"):\n",
      "“installation of package ‘rgl’ had non-zero exit status”\n",
      "Updating HTML index of packages in '.Library'\n",
      "\n",
      "Making 'packages.html' ...\n",
      " done\n",
      "\n",
      "Warning message:\n",
      "“no DISPLAY variable so Tk is not available”\n"
     ]
    },
    {
     "ename": "ERROR",
     "evalue": "Error in loadNamespace(j <- i[[1L]], c(lib.loc, .libPaths()), versionCheck = vI[[j]]): namespace ‘pillar’ 1.7.0 is already loaded, but >= 1.8.1 is required\n",
     "output_type": "error",
     "traceback": [
      "Error in loadNamespace(j <- i[[1L]], c(lib.loc, .libPaths()), versionCheck = vI[[j]]): namespace ‘pillar’ 1.7.0 is already loaded, but >= 1.8.1 is required\nTraceback:\n",
      "1. read_excel(\"2b数据处理结果.xlsx\", sheet = 1)",
      "2. read_excel_(path = path, sheet = sheet, range = range, col_names = col_names, \n .     col_types = col_types, na = na, trim_ws = trim_ws, skip = skip, \n .     n_max = n_max, guess_max = guess_max, progress = progress, \n .     .name_repair = .name_repair, format = format)",
      "3. set_readxl_names(read_fun(path = path, sheet_i = sheet, limits = limits, \n .     shim = shim, col_names = col_names, col_types = col_types, \n .     na = na, trim_ws = trim_ws, guess_max = guess_max, progress = progress), \n .     .name_repair = .name_repair)",
      "4. loadNamespace(x)",
      "5. namespaceImportFrom(ns, loadNamespace(j <- i[[1L]], c(lib.loc, \n .     .libPaths()), versionCheck = vI[[j]]), i[[2L]], from = package)",
      "6. asNamespace(ns)",
      "7. loadNamespace(j <- i[[1L]], c(lib.loc, .libPaths()), versionCheck = vI[[j]])",
      "8. stop(gettextf(\"namespace %s %s is already loaded, but %s %s is required\", \n .     sQuote(package), current, zop, zversion), domain = NA)"
     ]
    }
   ],
   "source": [
    "# 安装和加载需要的软件包\n",
    "install.packages(\"plot3D\")\n",
    "install.packages(\"readxl\")\n",
    "install.packages(\"rgl\")\n",
    "\n",
    "library(readxl)\n",
    "library(plot3D)\n",
    "\n",
    "#保存为pdf\n",
    "pdf(\"scatter3D.pdf\", width = 10, height = 10)\n",
    "\n",
    "# 读取数据\n",
    "data <- read_excel(\"2b数据处理结果.xlsx\", sheet = 1)\n",
    "\n",
    "# 删除第一二列\n",
    "data <- data[, -c(1,2)]\n",
    "\n",
    "# 创建 x, y, z 向量\n",
    "x <- rep(1:nrow(data), ncol(data))\n",
    "y <- rep(1:ncol(data), each=nrow(data))\n",
    "z <- as.vector(as.matrix(data))\n",
    "\n",
    "\n",
    "# 绘制三维散点图\n",
    "scatter3D(x=x, y=y, z=z, colvar=z, bty=\"g\", pch=16, cex=1.5, \n",
    "          theta=30, phi=10, xlab=\"Drugs Combination\", ylab=\"Cells\", zlab=\"Value\", cex.lab = 2, cex.axis = 1.6)\n",
    "          \n",
    "dev.off()"
   ]
  },
  {
   "cell_type": "code",
   "execution_count": null,
   "id": "34b3409f-4637-4006-b56c-89629937e816",
   "metadata": {},
   "outputs": [],
   "source": [
    "# ps -ef | grep Xorg\n",
    "# sudo /usr/bin/Xorg :0\n",
    "# echo $DISPLAY\n",
    "# export DISPLAY=:0"
   ]
  },
  {
   "cell_type": "code",
   "execution_count": null,
   "id": "901c8e3a-b54a-4613-a311-0ee3ee8505c5",
   "metadata": {},
   "outputs": [],
   "source": []
  }
 ],
 "metadata": {
  "kernelspec": {
   "display_name": "R",
   "language": "R",
   "name": "ir"
  },
  "language_info": {
   "codemirror_mode": "r",
   "file_extension": ".r",
   "mimetype": "text/x-r-source",
   "name": "R",
   "pygments_lexer": "r",
   "version": "4.2.0"
  }
 },
 "nbformat": 4,
 "nbformat_minor": 5
}
