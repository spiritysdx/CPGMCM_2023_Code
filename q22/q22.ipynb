{
 "cells": [
  {
   "cell_type": "code",
   "execution_count": 1,
   "id": "2c8a7dca-e1fe-4c02-be84-bfa7830c53eb",
   "metadata": {
    "tags": []
   },
   "outputs": [
    {
     "name": "stderr",
     "output_type": "stream",
     "text": [
      "/root/miniconda3/envs/jupyter-env/lib/python3.11/site-packages/scipy/__init__.py:155: UserWarning: A NumPy version >=1.18.5 and <1.26.0 is required for this version of SciPy (detected version 1.26.0\n",
      "  warnings.warn(f\"A NumPy version >={np_minversion} and <{np_maxversion}\"\n"
     ]
    }
   ],
   "source": [
    "import re\n",
    "import math\n",
    "import warnings\n",
    "import tqdm\n",
    "import matplotlib\n",
    "import numpy as np\n",
    "import pandas as pd\n",
    "import matplotlib.pyplot as plt\n",
    "from scipy.optimize import fsolve\n",
    "from sympy import symbols, Eq, solve\n",
    "from matplotlib.pyplot import MultipleLocator\n",
    "from sklearn.preprocessing import MinMaxScaler, Binarizer\n",
    "from sklearn.datasets import load_breast_cancer\n",
    "from sklearn.ensemble import RandomForestClassifier\n",
    "from sklearn.model_selection import GridSearchCV\n",
    "from sklearn.model_selection import cross_val_score\n",
    "warnings.filterwarnings(\"ignore\")\n",
    "\n",
    "\n",
    "%matplotlib inline\n",
    "plt.rcParams['font.sans-serif'] = ['SimHei'] \n",
    "plt.rcParams['axes.unicode_minus'] = False "
   ]
  },
  {
   "cell_type": "code",
   "execution_count": 2,
   "id": "3e28805f-1a16-42bb-8ce4-a662c711afd7",
   "metadata": {
    "tags": []
   },
   "outputs": [],
   "source": [
    "data1=pd.read_excel('/root/GDUT/表1-患者列表及临床信息.xlsx')\n",
    "# data2=pd.read_excel('/root/GDUT/表2-患者影像信息血肿及水肿的体积及位置.xlsx')\n",
    "# data3=pd.read_excel('/root/GDUT/表3-患者影像信息血肿及水肿的形状及灰度分布.xlsx')\n",
    "# data4=pd.read_excel('/root/GDUT/表4-答案文件.xlsx')\n",
    "data5=pd.read_excel('2b聚类数据.xlsx')\n",
    "data6=pd.read_excel('2a数据_已替换时间戳_已矫正.xlsx')\n",
    "# data_z=pd.read_excel(\"治疗方案.xlsx\")\n",
    "\n",
    "# data1.rename(columns={data1.columns[0]: \"ID\"}, inplace=True)\n",
    "# data2.rename(columns={data2.columns[0]: \"ID\"}, inplace=True)\n",
    "\n",
    "# data_f_1=pd.read_excel('附表1-检索表格-流水号vs时间.xlsx')\n",
    "# data_f_time=pd.read_excel('时间点.xlsx')"
   ]
  },
  {
   "cell_type": "code",
   "execution_count": 3,
   "id": "52653ceb-6865-4593-bdab-2ce4b957656b",
   "metadata": {
    "tags": []
   },
   "outputs": [
    {
     "data": {
      "text/plain": [
       "(160, 7)"
      ]
     },
     "execution_count": 3,
     "metadata": {},
     "output_type": "execute_result"
    }
   ],
   "source": [
    "data1[list(data1.columns)[16:]].shape"
   ]
  },
  {
   "cell_type": "code",
   "execution_count": 4,
   "id": "9a2c46d6-d5f9-4f11-aff9-e94ae36bb7f8",
   "metadata": {
    "tags": []
   },
   "outputs": [],
   "source": [
    "\n",
    "data7 = data5\n",
    "\n",
    "# 转换独热编码\n",
    "xueya_list = []\n",
    "for i in data7['血压']:\n",
    "    y1 = i.split('/')[0]\n",
    "    y2 = i.split('/')[1]\n",
    "    if int(y1) > 139 or int(y1) < 90:\n",
    "        status_i = 0\n",
    "    elif int(y2) > 89 or int(y2) < 60:\n",
    "        status_i = 0\n",
    "    else:\n",
    "        status_i = 1\n",
    "    xueya_list.append(status_i)\n",
    "data7['血压'] = np.array(xueya_list)\n",
    "data7['性别_男'] = data5['性别'].apply(lambda x: 1 if x == '男' else 0)\n",
    "data7['性别_女'] = data5['性别'].apply(lambda x: 1 if x == '女' else 0)\n",
    "x = data7['年龄'].values\n",
    "scaler = MinMaxScaler()\n",
    "x_normalized = scaler.fit_transform(x.reshape(-1, 1))\n",
    "binarizer = Binarizer(threshold=0.5)\n",
    "x_binarized = binarizer.fit_transform(x_normalized)\n",
    "data7['年龄'] = x_binarized"
   ]
  },
  {
   "cell_type": "code",
   "execution_count": null,
   "id": "44bf3726-ce10-4d62-851e-3ca5d7cdec87",
   "metadata": {},
   "outputs": [],
   "source": [
    "# 归一化\n",
    "# 比例变量变数值变量，归一化的是数值变量\n",
    "# 假设data5是你的数据框\n",
    "hm_columns = data5.filter(like='HM_').columns.tolist()\n",
    "ed_columns = data5.filter(like='ED_').columns.tolist()\n",
    "hm_columns.pop(0)\n",
    "ed_columns.pop(0)\n",
    "# print(ed_columns)\n",
    "\n",
    "# 获取'HM_volume'和'ED_volume.0'列的值\n",
    "hm_volume = data5['HM_volume']\n",
    "ed_volume = data5['ED_volume']\n",
    "\n",
    "# 将以'HM_'开头的列与'HM_volume'相乘\n",
    "data5[hm_columns] = data5[hm_columns].mul(hm_volume, axis=0)\n",
    "\n",
    "# 将以'ED_'开头的列与'ED_volume.0'相乘\n",
    "data5[ed_columns] = data5[ed_columns].mul(ed_volume, axis=0)\n",
    "# 创建 MinMaxScaler 对象\n",
    "scaler = MinMaxScaler()\n",
    "# 选择要归一化的列（除了 '年龄' 列之外的所有列）\n",
    "columns_to_normalize = [col for col in data5.columns if col != '性别']\n",
    "# 使用 MinMaxScaler 对所选列进行归一化\n",
    "data5[columns_to_normalize] = scaler.fit_transform(data5[columns_to_normalize])\n",
    "train = data5[:100]\n",
    "label = data_kz['是否扩张'].values[:100]\n",
    "predict = data5[100:]\n",
    "sm = SMOTE(random_state=0)\n",
    "xres, yres = sm.fit_resample(train.values, label)"
   ]
  },
  {
   "cell_type": "code",
   "execution_count": 5,
   "id": "f042af28-2a8c-416a-a58b-4d717eadfa54",
   "metadata": {
    "tags": []
   },
   "outputs": [
    {
     "data": {
      "text/plain": [
       "(160, 20)"
      ]
     },
     "execution_count": 5,
     "metadata": {},
     "output_type": "execute_result"
    }
   ],
   "source": [
    "pd.set_option('display.max_rows',None)\n",
    "\n",
    "#设置列不限制数量\n",
    "pd.set_option('display.max_columns',None)\n",
    "\n",
    "#设置value的显示长度为100，默认为50\n",
    "pd.set_option('max_colwidth',100)\n",
    "\n",
    "a=list(data7['脑出血前mRS评分'])\n",
    "data7['脑出血前mRS评分']=[(i-min(a))/(max(a)-min(a)) for i in a]\n",
    "data7.drop(columns={'性别'},axis=1,inplace=True)\n",
    "\n",
    "data7 = pd.concat([data7, data1[list(data1.columns)[16:]]], axis=1)\n",
    "data7.to_excel('2b数据处理结果.xlsx',index=False)\n",
    "data7.shape"
   ]
  },
  {
   "cell_type": "code",
   "execution_count": 6,
   "id": "be887300-62b2-46f0-afa3-d1df4a320a11",
   "metadata": {
    "tags": []
   },
   "outputs": [],
   "source": [
    "import pandas as pd\n",
    "from sklearn.cluster import KMeans, AgglomerativeClustering, Birch, SpectralClustering\n",
    "#  DBSCAN,\n",
    "from sklearn.metrics import silhouette_score, calinski_harabasz_score\n",
    "\n",
    "\n",
    "# 示例数据\n",
    "data7=pd.read_excel('2b数据处理结果.xlsx')\n",
    "\n",
    "data = data7[list(data7.columns)[13:]][:100]\n",
    "\n"
   ]
  },
  {
   "cell_type": "code",
   "execution_count": null,
   "id": "b6ba2438-4437-496d-bf90-bfb885eebbbd",
   "metadata": {},
   "outputs": [],
   "source": []
  },
  {
   "cell_type": "code",
   "execution_count": 7,
   "id": "00d6136f-e20d-419c-a9d5-61e12983f282",
   "metadata": {},
   "outputs": [
    {
     "name": "stdout",
     "output_type": "stream",
     "text": [
      "************************************************** 3 **************************************************\n",
      "Clustering Algorithm: K-Means\n",
      "Clustering Labels: [0 2 0 2 2 1 2 2 2 1 1 2 1 2 2 0 1 2 2 2 0 2 2 1 0 0 0 0 0 0 0 0 0 0 0 0 0\n",
      " 0 0 0 0 1 0 0 0 0 0 0 0 0 0 0 0 0 0 0 0 0 1 0 0 0 0 1 0 0 1 0 0 1 1 1 0 0\n",
      " 1 0 0 1 1 0 0 0 0 0 0 1 0 1 1 0 0 1 1 0 0 1 0 0 0 0]\n",
      "Silhouette coefficient: 0.6015669590578825\n",
      "Calinski-Harabasz index: 51.6381976577765\n",
      "---------------------------------------\n",
      "Clustering Algorithm: Hierarchical Clustering\n",
      "Clustering Labels: [2 0 2 0 0 1 0 0 0 1 1 0 1 0 0 2 1 0 0 0 2 0 0 1 2 2 2 2 2 0 2 2 2 2 0 2 2\n",
      " 2 2 2 2 1 2 2 2 2 2 2 2 2 2 2 2 2 2 2 2 2 1 2 2 2 2 1 2 2 1 2 0 1 1 1 2 2\n",
      " 1 2 2 1 1 2 0 2 2 2 2 1 2 1 1 2 0 1 1 2 2 1 2 2 2 2]\n",
      "Silhouette coefficient: 0.5932275559264848\n",
      "Calinski-Harabasz index: 46.616926063237365\n",
      "---------------------------------------\n",
      "Clustering Algorithm: Birch\n",
      "Clustering Labels: [1 1 1 2 2 0 1 2 1 0 0 1 0 2 1 1 0 1 2 1 1 1 2 0 1 1 1 1 1 1 1 1 1 1 1 1 1\n",
      " 1 1 1 1 0 1 1 1 1 1 1 1 1 1 1 1 1 1 1 1 1 0 1 1 1 1 0 1 1 0 1 1 0 0 0 1 1\n",
      " 0 1 1 0 0 1 1 1 1 1 1 0 1 0 0 1 1 0 0 1 1 0 1 1 1 1]\n",
      "Silhouette coefficient: 0.549859518460382\n",
      "Calinski-Harabasz index: 36.64221622333421\n",
      "---------------------------------------\n",
      "Clustering Algorithm: Spectral Clustering\n",
      "Clustering Labels: [0 2 0 2 2 2 2 2 2 2 2 2 0 2 2 0 2 2 2 2 0 2 2 2 0 0 0 0 0 2 0 0 0 0 2 0 0\n",
      " 0 0 0 0 1 0 0 0 0 0 0 0 0 0 0 0 0 0 0 0 0 2 0 0 0 0 1 0 0 1 0 2 2 1 2 0 0\n",
      " 1 0 0 2 2 0 2 0 0 0 0 2 0 2 2 0 2 2 2 0 0 2 0 0 0 0]\n",
      "Silhouette coefficient: 0.5266166311922741\n",
      "Calinski-Harabasz index: 29.188461538461535\n",
      "---------------------------------------\n",
      "************************************************** 4 **************************************************\n",
      "Clustering Algorithm: K-Means\n",
      "Clustering Labels: [0 2 0 2 2 1 2 2 2 3 1 2 3 2 2 0 3 2 2 2 0 2 2 3 0 0 0 0 0 0 0 0 0 0 0 0 0\n",
      " 0 0 0 0 1 0 0 0 0 0 0 0 0 0 0 0 0 0 0 0 0 3 0 0 0 0 1 0 0 1 0 0 1 1 1 0 0\n",
      " 1 0 0 3 3 0 0 0 0 0 0 1 0 3 1 0 0 1 3 0 0 1 0 0 0 0]\n",
      "Silhouette coefficient: 0.6307472886055754\n",
      "Calinski-Harabasz index: 48.78293842713732\n",
      "---------------------------------------\n",
      "Clustering Algorithm: Hierarchical Clustering\n",
      "Clustering Labels: [2 1 2 1 1 0 3 1 1 0 0 1 0 1 3 2 0 1 1 1 2 3 1 0 2 2 2 2 2 3 2 2 2 2 3 2 2\n",
      " 2 2 2 2 0 2 2 2 2 2 2 2 2 2 2 2 2 2 2 2 2 0 2 2 2 2 0 2 2 0 2 3 0 0 0 2 2\n",
      " 0 2 2 0 0 2 3 2 2 2 2 0 2 0 0 2 3 0 0 2 2 0 2 2 2 2]\n",
      "Silhouette coefficient: 0.6365076926748158\n",
      "Calinski-Harabasz index: 47.111154863439\n",
      "---------------------------------------\n",
      "Clustering Algorithm: Birch\n",
      "Clustering Labels: [0 0 0 2 2 1 0 2 0 1 1 0 3 2 0 0 1 0 2 0 0 0 2 1 0 0 0 0 0 0 0 0 0 0 0 0 0\n",
      " 0 0 0 0 1 0 0 0 0 0 0 0 0 0 0 0 0 0 0 0 0 1 0 0 0 0 1 0 0 1 0 0 1 1 1 0 0\n",
      " 1 0 0 1 1 0 0 0 0 0 0 1 0 1 1 0 0 1 1 0 0 1 0 0 0 0]\n",
      "Silhouette coefficient: 0.5426144685435361\n",
      "Calinski-Harabasz index: 27.080426550598474\n",
      "---------------------------------------\n",
      "Clustering Algorithm: Spectral Clustering\n",
      "Clustering Labels: [0 1 0 1 1 3 1 1 1 3 3 1 0 1 1 0 3 1 1 1 0 1 1 3 0 0 0 0 0 0 0 0 0 0 0 0 0\n",
      " 0 0 0 0 2 0 0 0 0 0 0 0 0 0 0 0 0 0 0 0 0 3 0 0 0 0 2 0 0 2 0 0 3 2 3 0 0\n",
      " 2 0 0 3 3 0 0 0 0 0 0 3 0 3 3 0 0 3 3 0 0 3 0 0 0 0]\n",
      "Silhouette coefficient: 0.6189802762740849\n",
      "Calinski-Harabasz index: 42.75513318495289\n",
      "---------------------------------------\n",
      "************************************************** 5 **************************************************\n",
      "Clustering Algorithm: K-Means\n",
      "Clustering Labels: [1 0 1 0 0 2 0 0 0 3 2 0 3 0 0 1 3 0 0 0 1 0 0 3 1 1 1 1 1 4 1 1 1 1 4 1 1\n",
      " 1 1 1 1 2 1 1 1 1 1 1 1 1 1 1 1 1 1 1 1 1 3 1 1 1 1 2 1 1 2 1 4 2 2 2 1 1\n",
      " 2 1 1 3 3 1 4 1 1 1 1 2 1 3 2 1 4 2 3 1 1 2 1 1 1 1]\n",
      "Silhouette coefficient: 0.6890083968338682\n",
      "Calinski-Harabasz index: 48.80686607881489\n",
      "---------------------------------------\n",
      "Clustering Algorithm: Hierarchical Clustering\n",
      "Clustering Labels: [2 1 2 1 1 0 3 1 1 4 0 1 0 1 3 2 4 1 1 1 2 3 1 4 2 2 2 2 2 3 2 2 2 2 3 2 2\n",
      " 2 2 2 2 0 2 2 2 2 2 2 2 2 2 2 2 2 2 2 2 2 4 2 2 2 2 0 2 2 0 2 3 0 0 0 2 2\n",
      " 0 2 2 4 4 2 3 2 2 2 2 0 2 4 0 2 3 0 4 2 2 0 2 2 2 2]\n",
      "Silhouette coefficient: 0.6869774589551793\n",
      "Calinski-Harabasz index: 49.75750173911942\n",
      "---------------------------------------\n",
      "Clustering Algorithm: Birch\n",
      "Clustering Labels: [2 2 2 0 0 1 4 0 2 1 1 2 3 0 4 2 1 2 0 2 2 4 0 1 2 2 2 2 2 4 2 2 2 2 4 2 2\n",
      " 2 2 2 2 1 2 2 2 2 2 2 2 2 2 2 2 2 2 2 2 2 1 2 2 2 2 1 2 2 1 2 4 1 1 1 2 2\n",
      " 1 2 2 1 1 2 4 2 2 2 2 1 2 1 1 2 4 1 1 2 2 1 2 2 2 2]\n",
      "Silhouette coefficient: 0.592558811732612\n",
      "Calinski-Harabasz index: 32.127843065883205\n",
      "---------------------------------------\n",
      "Clustering Algorithm: Spectral Clustering\n",
      "Clustering Labels: [0 2 0 2 2 1 2 2 2 4 1 2 4 2 2 0 4 2 2 2 0 2 4 4 0 0 0 0 0 1 0 0 0 0 1 0 0\n",
      " 0 0 0 0 3 0 0 0 0 0 0 0 0 0 0 0 0 0 0 0 0 4 0 0 0 0 3 0 0 3 0 1 1 3 1 0 0\n",
      " 3 0 0 4 4 0 1 0 0 0 0 1 0 4 1 0 1 1 4 0 0 1 0 0 0 0]\n",
      "Silhouette coefficient: 0.6870316116065385\n",
      "Calinski-Harabasz index: 48.84587878590581\n",
      "---------------------------------------\n"
     ]
    }
   ],
   "source": [
    "\n",
    "# kmeans = KMeans(n_clusters=k, init='k-means++', max_iter=300, random_state=0)\n",
    "# 定义所需的聚类算法和参数\n",
    "for c in [3,4,5]:\n",
    "    print('*'*50,c,'*'*50)\n",
    "    clustering_algorithms = [\n",
    "        (\"K-Means\", KMeans(n_clusters=c)),\n",
    "        (\"Hierarchical Clustering\", AgglomerativeClustering(n_clusters=c)),\n",
    "        (\"Birch\", Birch(n_clusters=c)),\n",
    "        (\"Spectral Clustering\", SpectralClustering(n_clusters=c))\n",
    "        ]\n",
    "\n",
    "\n",
    "    # 迭代聚类算法并分别计算评估指标\n",
    "    for algorithm_name, algorithm in clustering_algorithms:\n",
    "        algorithm.fit(data)\n",
    "        labels = algorithm.labels_\n",
    "\n",
    "        silhouette = silhouette_score(data, labels)\n",
    "        ch_index = calinski_harabasz_score(data, labels)\n",
    "\n",
    "        print(\"Clustering Algorithm:\", algorithm_name)\n",
    "        print(\"Clustering Labels:\", labels)\n",
    "        print(\"Silhouette coefficient:\", silhouette)\n",
    "        print(\"Calinski-Harabasz index:\", ch_index)\n",
    "        print(\"---------------------------------------\")"
   ]
  },
  {
   "cell_type": "code",
   "execution_count": 8,
   "id": "da167f3b-fbfd-4a0f-b9ec-514544375ff3",
   "metadata": {
    "tags": []
   },
   "outputs": [
    {
     "name": "stdout",
     "output_type": "stream",
     "text": [
      "Best Parameters: {'init': 'k-means++', 'max_iter': 100, 'n_clusters': 5, 'random_state': None}\n",
      "Clustering Algorithm: K-Means (Tuned)\n",
      "Clustering Labels: [3 2 2 4 3 2 2 2 4 2 4 2 4 3 0 0 4 3 2 4 2 2 1 1 2 2 0 2 2 0 2 1 2 2 0 2 2\n",
      " 2 2 2 2 2 0 2 2 3 2 2 2 3 3 2 0 2 2 0 3 0 4 4 0 0 2 2 3 2 4 2 4 4 2 2 2 2\n",
      " 2 0 2 1 4 2 3 1 0 1 2 2 1 2 2 2 2 0 1 1 2 3 2 0 2 1 0 4 4 1 4 0 2 2 3 3 0\n",
      " 2 2 2 1 4 4 2 1 2 2 2 4 2 2 3 3 2 2 4 2 4 2 2 4 0 2 2 4 0 2 2 2 1 4 1 2 1\n",
      " 4 4 4 2 2 2 2 2 4 2 1 0]\n",
      "Silhouette coefficient: 0.5772323973789996\n",
      "Calinski-Harabasz index: 62.71049428576463\n"
     ]
    }
   ],
   "source": [
    "import pandas as pd\n",
    "from sklearn.cluster import KMeans\n",
    "from sklearn.metrics import silhouette_score, calinski_harabasz_score\n",
    "from sklearn.model_selection import GridSearchCV\n",
    "import numpy as np\n",
    "\n",
    "# 示例数据\n",
    "data7 = pd.read_excel('2b数据处理结果.xlsx')\n",
    "data = data7[list(data7.columns)[3:10]]\n",
    "\n",
    "# 定义所需的聚类算法和参数\n",
    "clustering_algorithms = [\n",
    "    (\"K-Means\", KMeans())  # 不需要指定初始参数\n",
    "]\n",
    "\n",
    "# 定义KMeans的超参数搜索范围\n",
    "param_grid = {\n",
    "    'n_clusters': [None, 3, 4, 5],  # 尝试不同的聚类数量\n",
    "    'init': [None, 'k-means++', 'random'],  # 不同的初始化方法\n",
    "    'max_iter': [None, 1,5,10,25,50, 100, 150, 200, 250],  # 不同的最大迭代次数\n",
    "    'random_state': [None, 0,1,2], \n",
    "}\n",
    "\n",
    "# 创建GridSearchCV对象\n",
    "grid_search = GridSearchCV(estimator=KMeans(), param_grid=param_grid, cv=5)\n",
    "\n",
    "# 执行网格搜索\n",
    "grid_search.fit(data)\n",
    "\n",
    "# 输出最佳参数\n",
    "print(\"Best Parameters:\", grid_search.best_params_)\n",
    "\n",
    "# 获取最佳参数的KMeans模型\n",
    "best_kmeans_model = grid_search.best_estimator_\n",
    "\n",
    "# 使用最佳模型进行聚类\n",
    "best_kmeans_model.fit(data)\n",
    "best_labels = best_kmeans_model.labels_\n",
    "\n",
    "# 计算评估指标\n",
    "silhouette = silhouette_score(data, best_labels)\n",
    "ch_index = calinski_harabasz_score(data, best_labels)\n",
    "\n",
    "print(\"Clustering Algorithm: K-Means (Tuned)\")\n",
    "print(\"Clustering Labels:\", best_labels)\n",
    "print(\"Silhouette coefficient:\", silhouette)\n",
    "print(\"Calinski-Harabasz index:\", ch_index)\n"
   ]
  },
  {
   "cell_type": "code",
   "execution_count": 33,
   "id": "9c9b72fe-b6d7-4ea9-9578-18d950f3fc47",
   "metadata": {},
   "outputs": [],
   "source": [
    "# import json\n",
    "\n",
    "# # 0.693\n",
    "# # 创建一个包含数组的字典\n",
    "# data = {\"best_labels\": best_labels.tolist()}\n",
    "\n",
    "# # 保存为JSON文件\n",
    "# with open(\"best_labels.json\", \"w\") as json_file:\n",
    "#     json.dump(data, json_file)\n",
    "\n",
    "# # 要在其他Python脚本中读取这个JSON文件，你可以使用json.load()函数。"
   ]
  },
  {
   "cell_type": "code",
   "execution_count": 34,
   "id": "56f383bf-ab34-4dd0-89fe-6a4394ae4cdb",
   "metadata": {},
   "outputs": [],
   "source": [
    "# data"
   ]
  },
  {
   "cell_type": "code",
   "execution_count": null,
   "id": "9fae1170-dd30-40eb-bb05-a6b74033abb0",
   "metadata": {},
   "outputs": [],
   "source": []
  },
  {
   "cell_type": "code",
   "execution_count": null,
   "id": "e29c89e1-76a5-45f3-88a1-8ff615c35dee",
   "metadata": {},
   "outputs": [],
   "source": []
  }
 ],
 "metadata": {
  "kernelspec": {
   "display_name": "Python 3 (ipykernel)",
   "language": "python",
   "name": "python3"
  },
  "language_info": {
   "codemirror_mode": {
    "name": "ipython",
    "version": 3
   },
   "file_extension": ".py",
   "mimetype": "text/x-python",
   "name": "python",
   "nbconvert_exporter": "python",
   "pygments_lexer": "ipython3",
   "version": "3.11.4"
  }
 },
 "nbformat": 4,
 "nbformat_minor": 5
}
