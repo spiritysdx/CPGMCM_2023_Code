{
 "cells": [
  {
   "cell_type": "code",
   "execution_count": 13,
   "id": "2c8a7dca-e1fe-4c02-be84-bfa7830c53eb",
   "metadata": {
    "tags": []
   },
   "outputs": [],
   "source": [
    "import re\n",
    "import math\n",
    "import warnings\n",
    "import tqdm\n",
    "import matplotlib\n",
    "import numpy as np\n",
    "import pandas as pd\n",
    "import matplotlib.pyplot as plt\n",
    "from scipy.optimize import fsolve\n",
    "from sympy import symbols, Eq, solve\n",
    "from matplotlib.pyplot import MultipleLocator\n",
    "from sklearn.preprocessing import MinMaxScaler, Binarizer\n",
    "from sklearn.datasets import load_breast_cancer\n",
    "from sklearn.ensemble import RandomForestClassifier\n",
    "from sklearn.model_selection import GridSearchCV\n",
    "from sklearn.model_selection import cross_val_score\n",
    "warnings.filterwarnings(\"ignore\")\n",
    "\n",
    "\n",
    "%matplotlib inline\n",
    "plt.rcParams['font.sans-serif'] = ['SimHei'] \n",
    "plt.rcParams['axes.unicode_minus'] = False "
   ]
  },
  {
   "cell_type": "code",
   "execution_count": 14,
   "id": "3e28805f-1a16-42bb-8ce4-a662c711afd7",
   "metadata": {
    "tags": []
   },
   "outputs": [],
   "source": [
    "data1=pd.read_excel('/root/GDUT/表1-患者列表及临床信息.xlsx')\n",
    "# data2=pd.read_excel('/root/GDUT/表2-患者影像信息血肿及水肿的体积及位置.xlsx')\n",
    "# data3=pd.read_excel('/root/GDUT/表3-患者影像信息血肿及水肿的形状及灰度分布.xlsx')\n",
    "# data4=pd.read_excel('/root/GDUT/表4-答案文件.xlsx')\n",
    "data5=pd.read_excel('2b聚类数据.xlsx')\n",
    "data6=pd.read_excel('2a数据_已替换时间戳_已矫正.xlsx')\n",
    "# data_z=pd.read_excel(\"治疗方案.xlsx\")\n",
    "\n",
    "# data1.rename(columns={data1.columns[0]: \"ID\"}, inplace=True)\n",
    "# data2.rename(columns={data2.columns[0]: \"ID\"}, inplace=True)\n",
    "\n",
    "# data_f_1=pd.read_excel('附表1-检索表格-流水号vs时间.xlsx')\n",
    "# data_f_time=pd.read_excel('时间点.xlsx')"
   ]
  },
  {
   "cell_type": "code",
   "execution_count": 15,
   "id": "52653ceb-6865-4593-bdab-2ce4b957656b",
   "metadata": {
    "tags": []
   },
   "outputs": [
    {
     "data": {
      "text/plain": [
       "(160, 7)"
      ]
     },
     "execution_count": 15,
     "metadata": {},
     "output_type": "execute_result"
    }
   ],
   "source": [
    "data1[list(data1.columns)[16:]].shape"
   ]
  },
  {
   "cell_type": "code",
   "execution_count": 16,
   "id": "9a2c46d6-d5f9-4f11-aff9-e94ae36bb7f8",
   "metadata": {
    "tags": []
   },
   "outputs": [],
   "source": [
    "\n",
    "data7 = data5\n",
    "\n",
    "# 转换独热编码\n",
    "xueya_list = []\n",
    "for i in data7['血压']:\n",
    "    y1 = i.split('/')[0]\n",
    "    y2 = i.split('/')[1]\n",
    "    if int(y1) > 139 or int(y1) < 90:\n",
    "        status_i = 0\n",
    "    elif int(y2) > 89 or int(y2) < 60:\n",
    "        status_i = 0\n",
    "    else:\n",
    "        status_i = 1\n",
    "    xueya_list.append(status_i)\n",
    "data7['血压'] = np.array(xueya_list)\n",
    "data7['性别_男'] = data5['性别'].apply(lambda x: 1 if x == '男' else 0)\n",
    "data7['性别_女'] = data5['性别'].apply(lambda x: 1 if x == '女' else 0)\n",
    "x = data7['年龄'].values\n",
    "scaler = MinMaxScaler()\n",
    "x_normalized = scaler.fit_transform(x.reshape(-1, 1))\n",
    "binarizer = Binarizer(threshold=0.5)\n",
    "x_binarized = binarizer.fit_transform(x_normalized)\n",
    "data7['年龄'] = x_binarized"
   ]
  },
  {
   "cell_type": "code",
   "execution_count": 17,
   "id": "f042af28-2a8c-416a-a58b-4d717eadfa54",
   "metadata": {
    "tags": []
   },
   "outputs": [
    {
     "data": {
      "text/plain": [
       "(160, 20)"
      ]
     },
     "execution_count": 17,
     "metadata": {},
     "output_type": "execute_result"
    }
   ],
   "source": [
    "pd.set_option('display.max_rows',None)\n",
    "\n",
    "#设置列不限制数量\n",
    "pd.set_option('display.max_columns',None)\n",
    "\n",
    "#设置value的显示长度为100，默认为50\n",
    "pd.set_option('max_colwidth',100)\n",
    "\n",
    "a=list(data7['脑出血前mRS评分'])\n",
    "data7['脑出血前mRS评分']=[(i-min(a))/(max(a)-min(a)) for i in a]\n",
    "data7.drop(columns={'性别'},axis=1,inplace=True)\n",
    "\n",
    "data7 = pd.concat([data7, data1[list(data1.columns)[16:]]], axis=1)\n",
    "data7.to_excel('2b数据处理结果.xlsx',index=False)\n",
    "data7.shape"
   ]
  },
  {
   "cell_type": "code",
   "execution_count": 19,
   "id": "be887300-62b2-46f0-afa3-d1df4a320a11",
   "metadata": {
    "tags": []
   },
   "outputs": [],
   "source": [
    "import pandas as pd\n",
    "from sklearn.cluster import KMeans, AgglomerativeClustering, Birch, SpectralClustering\n",
    "#  DBSCAN,\n",
    "from sklearn.metrics import silhouette_score, calinski_harabasz_score\n",
    "\n",
    "\n",
    "# 示例数据\n",
    "data7=pd.read_excel('2b数据处理结果.xlsx')\n",
    "\n",
    "data = data7[list(data7.columns)[13:]]\n",
    "\n"
   ]
  },
  {
   "cell_type": "code",
   "execution_count": null,
   "id": "b6ba2438-4437-496d-bf90-bfb885eebbbd",
   "metadata": {},
   "outputs": [],
   "source": []
  },
  {
   "cell_type": "code",
   "execution_count": 20,
   "id": "00d6136f-e20d-419c-a9d5-61e12983f282",
   "metadata": {},
   "outputs": [
    {
     "name": "stdout",
     "output_type": "stream",
     "text": [
      "************************************************** 3 **************************************************\n",
      "Clustering Algorithm: K-Means\n",
      "Clustering Labels: [1 0 1 0 0 2 0 0 0 1 2 0 2 0 0 1 1 0 0 0 1 0 0 1 1 1 1 1 1 1 1 1 1 1 1 1 1\n",
      " 1 1 1 1 2 1 1 1 1 1 1 1 1 1 1 1 1 1 1 1 1 1 1 1 1 1 2 1 1 2 1 1 2 2 2 1 1\n",
      " 2 1 1 1 1 1 1 1 1 1 1 2 1 1 2 1 1 2 1 1 1 2 1 1 1 1 1 2 1 0 1 0 0 2 2 0 1\n",
      " 0 0 1 1 2 2 0 2 2 0 0 0 2 0 0 2 0 0 1 1 0 0 0 1 0 0 0 1 0 0 1 0 1 0 0 0 0\n",
      " 0 2 0 2 0 1 0 0 1 1 1 1]\n",
      "Silhouette coefficient: 0.45044179672995205\n",
      "Calinski-Harabasz index: 63.49444747505996\n",
      "---------------------------------------\n",
      "Clustering Algorithm: Hierarchical Clustering\n",
      "Clustering Labels: [0 2 0 2 1 0 2 1 2 1 0 2 1 2 2 0 1 2 1 2 0 2 1 1 0 0 0 0 0 0 0 0 0 0 0 0 0\n",
      " 0 0 0 0 1 0 0 0 0 0 0 0 0 0 0 0 0 0 0 0 0 1 0 0 0 0 1 0 0 1 0 0 0 1 0 0 0\n",
      " 1 0 0 1 1 0 0 0 0 0 0 0 0 1 0 0 0 0 1 0 0 0 0 0 0 0 0 0 1 2 0 2 2 1 1 1 0\n",
      " 2 1 0 0 1 1 2 1 1 2 1 1 1 2 1 1 2 2 0 0 2 2 1 0 2 2 1 0 2 2 0 2 0 1 1 2 1\n",
      " 1 1 1 1 0 1 2 2 0 0 0 0]\n",
      "Silhouette coefficient: 0.38755205923776587\n",
      "Calinski-Harabasz index: 43.99537407557567\n",
      "---------------------------------------\n",
      "Clustering Algorithm: Birch\n",
      "Clustering Labels: [0 0 0 0 2 1 1 1 0 1 1 0 2 0 1 0 1 0 2 0 0 1 1 1 0 0 0 0 0 1 0 0 0 0 1 0 0\n",
      " 0 0 0 0 1 0 0 0 0 0 0 0 0 0 0 0 0 0 0 0 0 1 0 0 0 0 1 0 0 1 0 1 1 1 1 0 0\n",
      " 1 0 0 1 1 0 1 0 0 0 0 1 0 1 1 0 1 1 1 0 0 1 0 0 0 0 0 1 1 1 1 0 0 1 1 2 1\n",
      " 0 2 0 1 1 1 0 1 1 1 1 1 1 1 2 1 0 1 0 0 0 1 2 1 1 0 1 0 0 0 1 0 1 2 2 0 2\n",
      " 2 1 1 1 1 1 0 0 1 0 0 0]\n",
      "Silhouette coefficient: 0.4019183536859797\n",
      "Calinski-Harabasz index: 44.04119526223202\n",
      "---------------------------------------\n",
      "Clustering Algorithm: Spectral Clustering\n",
      "Clustering Labels: [1 2 1 2 2 0 2 2 2 1 0 2 1 2 2 1 1 2 2 2 1 2 2 1 1 1 1 1 1 1 1 1 1 1 1 1 1\n",
      " 1 1 1 1 0 1 1 1 1 1 1 1 1 1 1 1 1 1 1 1 1 1 1 1 1 1 0 1 1 0 1 1 0 0 0 1 1\n",
      " 0 1 1 1 1 1 1 1 1 1 1 0 1 1 0 1 1 0 1 1 1 0 1 1 1 1 1 0 1 2 1 2 2 0 0 2 1\n",
      " 2 2 1 1 0 0 2 0 0 2 2 2 0 2 2 0 2 2 1 1 2 2 2 1 2 2 2 1 2 2 1 2 1 2 2 2 2\n",
      " 2 0 2 0 2 1 2 2 1 1 1 1]\n",
      "Silhouette coefficient: 0.44727807128234165\n",
      "Calinski-Harabasz index: 63.22841147012437\n",
      "---------------------------------------\n",
      "************************************************** 4 **************************************************\n",
      "Clustering Algorithm: K-Means\n",
      "Clustering Labels: [1 0 1 0 0 2 0 0 0 1 3 0 2 0 0 1 1 0 0 0 1 0 0 1 1 1 1 1 1 3 1 1 1 1 3 1 1\n",
      " 1 1 1 1 2 1 1 1 1 1 1 1 1 1 1 1 1 1 1 1 1 1 1 1 1 1 2 1 1 2 1 3 3 2 3 1 1\n",
      " 2 1 1 1 1 1 3 1 1 1 1 3 1 1 3 1 3 3 1 1 1 3 1 1 1 1 1 3 1 0 3 0 0 2 2 2 3\n",
      " 0 2 1 3 2 2 0 2 2 0 0 2 2 0 0 2 0 0 1 1 0 0 0 3 0 0 0 1 0 0 3 0 3 2 2 0 0\n",
      " 0 2 0 2 0 1 0 0 3 1 1 1]\n",
      "Silhouette coefficient: 0.4785823467368891\n",
      "Calinski-Harabasz index: 57.17934041265974\n",
      "---------------------------------------\n",
      "Clustering Algorithm: Hierarchical Clustering\n",
      "Clustering Labels: [3 2 3 2 0 1 2 0 2 0 1 2 0 2 2 3 0 2 0 2 3 2 0 0 3 3 3 3 3 1 1 3 3 3 1 3 3\n",
      " 3 3 3 3 0 3 3 3 3 3 3 3 3 3 3 3 3 3 3 3 3 0 3 3 3 3 0 3 3 0 3 1 1 0 1 3 3\n",
      " 0 3 3 0 0 3 1 3 3 3 1 1 3 0 1 1 1 1 0 3 3 1 3 3 1 3 3 1 0 2 1 2 2 0 0 0 1\n",
      " 2 0 3 1 0 0 2 0 0 2 0 0 0 2 0 0 2 2 3 3 2 2 0 1 2 2 0 3 2 2 1 2 1 0 0 2 0\n",
      " 0 0 0 0 1 0 2 2 1 3 3 1]\n",
      "Silhouette coefficient: 0.4695728362255799\n",
      "Calinski-Harabasz index: 47.89784973468088\n",
      "---------------------------------------\n",
      "Clustering Algorithm: Birch\n",
      "Clustering Labels: [1 1 1 3 2 0 0 0 1 0 0 1 2 3 0 1 0 1 2 1 1 0 0 0 1 1 1 1 1 0 1 1 1 1 0 1 1\n",
      " 1 1 1 1 0 1 1 1 1 1 1 1 1 1 1 1 1 1 1 1 1 0 1 1 1 1 0 1 1 0 1 0 0 0 0 1 1\n",
      " 0 1 1 0 0 1 0 1 1 1 1 0 1 0 0 1 0 0 0 1 1 0 1 1 1 1 1 0 0 0 0 1 1 0 0 2 0\n",
      " 1 2 1 0 0 0 1 0 0 0 0 0 0 0 2 0 1 0 1 1 3 0 2 0 0 3 0 1 1 3 0 1 0 2 2 1 2\n",
      " 2 0 0 0 0 0 1 1 0 1 1 1]\n",
      "Silhouette coefficient: 0.4249385681774257\n",
      "Calinski-Harabasz index: 38.741150970266894\n",
      "---------------------------------------\n",
      "Clustering Algorithm: Spectral Clustering\n",
      "Clustering Labels: [0 1 0 1 1 3 3 1 1 0 3 1 2 1 3 0 0 1 1 1 0 3 1 0 0 0 0 0 0 0 0 0 0 0 0 0 0\n",
      " 0 0 0 0 2 0 0 0 0 0 0 0 0 0 0 0 0 0 0 0 0 0 0 0 0 0 2 0 0 2 0 0 3 2 3 0 0\n",
      " 2 0 0 0 0 0 0 0 0 0 0 3 0 0 3 0 0 3 0 0 0 3 0 0 0 0 0 3 0 3 0 1 1 3 3 2 0\n",
      " 1 2 0 0 3 2 1 3 3 3 1 1 3 3 1 2 1 3 0 0 1 3 1 0 3 3 1 0 1 1 0 1 0 2 2 1 1\n",
      " 1 3 1 3 3 0 1 1 0 0 0 0]\n",
      "Silhouette coefficient: 0.46484651535465016\n",
      "Calinski-Harabasz index: 52.82028925076126\n",
      "---------------------------------------\n",
      "************************************************** 5 **************************************************\n",
      "Clustering Algorithm: K-Means\n",
      "Clustering Labels: [2 1 2 1 1 0 0 1 1 2 4 1 3 1 0 2 2 1 1 1 2 0 1 2 2 2 2 2 2 4 2 2 2 2 4 2 2\n",
      " 2 2 2 2 3 2 2 2 2 2 2 2 2 2 2 2 2 2 2 2 2 2 2 2 2 2 3 2 2 3 2 4 4 3 4 2 2\n",
      " 3 2 2 2 2 2 4 2 2 2 2 4 2 2 4 2 4 4 2 2 2 4 2 2 2 2 2 4 2 0 4 1 1 0 0 1 4\n",
      " 1 1 2 4 0 3 1 0 0 0 1 0 0 0 1 3 1 0 2 2 1 0 1 4 0 0 1 2 1 1 4 1 4 1 1 1 1\n",
      " 1 0 1 0 0 2 1 1 4 2 2 2]\n",
      "Silhouette coefficient: 0.519567773059208\n",
      "Calinski-Harabasz index: 56.093631790055234\n",
      "---------------------------------------\n",
      "Clustering Algorithm: Hierarchical Clustering\n",
      "Clustering Labels: [3 2 3 2 4 0 2 1 2 1 0 2 4 2 2 3 1 2 4 2 3 2 1 1 3 3 3 3 3 0 0 3 3 3 0 3 3\n",
      " 3 3 3 3 4 3 3 3 3 3 3 3 3 3 3 3 3 3 3 3 3 1 3 3 3 3 4 3 3 4 3 0 0 4 0 3 3\n",
      " 4 3 3 1 1 3 0 3 3 3 0 0 3 1 0 0 0 0 1 3 3 0 3 3 0 3 3 0 1 2 0 2 2 1 1 4 0\n",
      " 2 4 3 0 1 4 2 1 1 2 1 4 1 2 4 4 2 2 3 3 2 2 4 0 2 2 1 3 2 2 0 2 0 4 4 2 4\n",
      " 4 1 1 1 0 1 2 2 0 3 3 0]\n",
      "Silhouette coefficient: 0.5136903480297678\n",
      "Calinski-Harabasz index: 50.44956923402276\n",
      "---------------------------------------\n",
      "Clustering Algorithm: Birch\n",
      "Clustering Labels: [4 4 4 3 2 0 0 1 4 1 1 4 2 3 0 4 1 4 2 4 4 0 1 1 4 4 4 4 4 1 4 4 4 4 1 4 4\n",
      " 4 4 4 4 1 4 4 4 4 4 4 4 4 4 4 4 4 4 4 4 4 1 4 4 4 4 1 4 4 1 4 1 1 1 1 4 4\n",
      " 1 4 4 1 1 4 1 4 4 4 4 1 4 1 1 4 1 0 1 4 4 1 4 4 4 4 4 1 1 0 1 4 4 1 1 2 1\n",
      " 4 2 4 1 1 1 4 1 1 0 1 0 1 0 2 1 4 0 4 4 3 0 2 1 0 3 1 4 4 3 1 4 1 2 2 4 2\n",
      " 2 1 1 1 0 1 4 4 1 4 4 4]\n",
      "Silhouette coefficient: 0.4402382151438692\n",
      "Calinski-Harabasz index: 37.25902911360567\n",
      "---------------------------------------\n",
      "Clustering Algorithm: Spectral Clustering\n",
      "Clustering Labels: [0 0 0 0 2 4 3 4 0 0 3 0 2 0 3 0 0 0 2 0 0 3 4 0 0 0 0 0 0 3 0 0 0 0 3 0 0\n",
      " 0 0 0 0 1 0 0 0 0 0 0 0 0 0 0 0 0 0 0 0 0 0 0 0 0 0 1 0 0 1 0 3 3 1 3 0 0\n",
      " 1 0 0 0 0 0 3 0 0 0 0 3 0 0 3 0 3 3 0 0 0 3 0 0 0 0 0 3 0 3 3 0 0 4 4 2 3\n",
      " 0 2 0 3 4 2 0 4 4 3 4 3 4 3 2 2 0 3 0 0 0 3 2 3 3 3 4 0 0 0 3 0 3 2 2 0 2\n",
      " 2 4 4 4 3 0 0 0 3 0 0 0]\n",
      "Silhouette coefficient: 0.44913694374607493\n",
      "Calinski-Harabasz index: 39.129244481492776\n",
      "---------------------------------------\n"
     ]
    }
   ],
   "source": [
    "\n",
    "# kmeans = KMeans(n_clusters=k, init='k-means++', max_iter=300, random_state=0)\n",
    "# 定义所需的聚类算法和参数\n",
    "for c in [3,4,5]:\n",
    "    print('*'*50,c,'*'*50)\n",
    "    clustering_algorithms = [\n",
    "        (\"K-Means\", KMeans(n_clusters=c)),\n",
    "        (\"Hierarchical Clustering\", AgglomerativeClustering(n_clusters=c)),\n",
    "        (\"Birch\", Birch(n_clusters=c)),\n",
    "        (\"Spectral Clustering\", SpectralClustering(n_clusters=c))\n",
    "        ]\n",
    "\n",
    "\n",
    "    # 迭代聚类算法并分别计算评估指标\n",
    "    for algorithm_name, algorithm in clustering_algorithms:\n",
    "        algorithm.fit(data)\n",
    "        labels = algorithm.labels_\n",
    "\n",
    "        silhouette = silhouette_score(data, labels)\n",
    "        ch_index = calinski_harabasz_score(data, labels)\n",
    "\n",
    "        print(\"Clustering Algorithm:\", algorithm_name)\n",
    "        print(\"Clustering Labels:\", labels)\n",
    "        print(\"Silhouette coefficient:\", silhouette)\n",
    "        print(\"Calinski-Harabasz index:\", ch_index)\n",
    "        print(\"---------------------------------------\")"
   ]
  },
  {
   "cell_type": "code",
   "execution_count": 21,
   "id": "da167f3b-fbfd-4a0f-b9ec-514544375ff3",
   "metadata": {
    "tags": []
   },
   "outputs": [
    {
     "name": "stdout",
     "output_type": "stream",
     "text": [
      "Best Parameters: {'init': 'k-means++', 'max_iter': 250, 'n_clusters': 5, 'random_state': None}\n",
      "Clustering Algorithm: K-Means (Tuned)\n",
      "Clustering Labels: [1 1 1 0 1 1 1 1 0 1 0 1 0 1 4 4 0 1 1 0 1 1 2 2 1 1 3 1 1 4 1 2 1 1 4 1 1\n",
      " 1 1 1 1 1 4 1 1 1 1 1 1 1 1 3 4 1 1 4 4 4 0 0 4 4 1 1 1 1 0 1 0 0 3 3 1 1\n",
      " 1 3 3 2 0 1 3 2 4 2 1 1 2 1 1 1 1 3 2 2 1 1 1 3 1 2 4 0 0 2 0 4 1 1 3 4 4\n",
      " 1 1 1 2 0 0 3 2 1 1 1 0 1 1 1 2 1 1 0 1 0 1 1 0 4 1 1 0 4 1 1 3 2 0 2 1 2\n",
      " 0 0 0 1 1 1 1 3 0 1 2 4]\n",
      "Silhouette coefficient: 0.5551913398300765\n",
      "Calinski-Harabasz index: 58.59400010161085\n"
     ]
    }
   ],
   "source": [
    "import pandas as pd\n",
    "from sklearn.cluster import KMeans\n",
    "from sklearn.metrics import silhouette_score, calinski_harabasz_score\n",
    "from sklearn.model_selection import GridSearchCV\n",
    "import numpy as np\n",
    "\n",
    "# 示例数据\n",
    "data7 = pd.read_excel('2b数据处理结果.xlsx')\n",
    "data = data7[list(data7.columns)[3:10]]\n",
    "\n",
    "# 定义所需的聚类算法和参数\n",
    "clustering_algorithms = [\n",
    "    (\"K-Means\", KMeans())  # 不需要指定初始参数\n",
    "]\n",
    "\n",
    "# 定义KMeans的超参数搜索范围\n",
    "param_grid = {\n",
    "    'n_clusters': [None, 3, 4, 5],  # 尝试不同的聚类数量\n",
    "    'init': [None, 'k-means++', 'random'],  # 不同的初始化方法\n",
    "    'max_iter': [None, 1,5,10,25,50, 100, 150, 200, 250],  # 不同的最大迭代次数\n",
    "    'random_state': [None, 0,1,2], \n",
    "}\n",
    "\n",
    "# 创建GridSearchCV对象\n",
    "grid_search = GridSearchCV(estimator=KMeans(), param_grid=param_grid, cv=5)\n",
    "\n",
    "# 执行网格搜索\n",
    "grid_search.fit(data)\n",
    "\n",
    "# 输出最佳参数\n",
    "print(\"Best Parameters:\", grid_search.best_params_)\n",
    "\n",
    "# 获取最佳参数的KMeans模型\n",
    "best_kmeans_model = grid_search.best_estimator_\n",
    "\n",
    "# 使用最佳模型进行聚类\n",
    "best_kmeans_model.fit(data)\n",
    "best_labels = best_kmeans_model.labels_\n",
    "\n",
    "# 计算评估指标\n",
    "silhouette = silhouette_score(data, best_labels)\n",
    "ch_index = calinski_harabasz_score(data, best_labels)\n",
    "\n",
    "print(\"Clustering Algorithm: K-Means (Tuned)\")\n",
    "print(\"Clustering Labels:\", best_labels)\n",
    "print(\"Silhouette coefficient:\", silhouette)\n",
    "print(\"Calinski-Harabasz index:\", ch_index)\n"
   ]
  },
  {
   "cell_type": "code",
   "execution_count": 22,
   "id": "9c9b72fe-b6d7-4ea9-9578-18d950f3fc47",
   "metadata": {},
   "outputs": [],
   "source": [
    "# import json\n",
    "\n",
    "# # 0.693\n",
    "# # 创建一个包含数组的字典\n",
    "# data = {\"best_labels\": best_labels.tolist()}\n",
    "\n",
    "# # 保存为JSON文件\n",
    "# with open(\"best_labels.json\", \"w\") as json_file:\n",
    "#     json.dump(data, json_file)\n",
    "\n",
    "# # 要在其他Python脚本中读取这个JSON文件，你可以使用json.load()函数。"
   ]
  },
  {
   "cell_type": "code",
   "execution_count": 24,
   "id": "56f383bf-ab34-4dd0-89fe-6a4394ae4cdb",
   "metadata": {},
   "outputs": [],
   "source": [
    "# data"
   ]
  },
  {
   "cell_type": "code",
   "execution_count": null,
   "id": "9fae1170-dd30-40eb-bb05-a6b74033abb0",
   "metadata": {},
   "outputs": [],
   "source": []
  },
  {
   "cell_type": "code",
   "execution_count": null,
   "id": "e29c89e1-76a5-45f3-88a1-8ff615c35dee",
   "metadata": {},
   "outputs": [],
   "source": []
  }
 ],
 "metadata": {
  "kernelspec": {
   "display_name": "Python 3 (ipykernel)",
   "language": "python",
   "name": "python3"
  },
  "language_info": {
   "codemirror_mode": {
    "name": "ipython",
    "version": 3
   },
   "file_extension": ".py",
   "mimetype": "text/x-python",
   "name": "python",
   "nbconvert_exporter": "python",
   "pygments_lexer": "ipython3",
   "version": "3.11.4"
  }
 },
 "nbformat": 4,
 "nbformat_minor": 5
}
