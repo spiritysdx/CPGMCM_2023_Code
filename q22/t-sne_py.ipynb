{
 "cells": [
  {
   "cell_type": "code",
   "execution_count": null,
   "id": "5e9d0b92-fe73-42f4-b83f-19a53d73f041",
   "metadata": {
    "tags": []
   },
   "outputs": [],
   "source": [
    "import pandas as pd\n",
    "import matplotlib.pyplot as plt\n",
    "from mpl_toolkits.mplot3d import Axes3D\n",
    "from sklearn.manifold import TSNE\n",
    "\n",
    "# 读取数据集\n",
    "data = pd.read_excel(\"2b数据处理结果.xlsx\")\n",
    "\n",
    "# 提取特征列\n",
    "X = data.iloc[:, 1:]  # 假设特征列从第二列开始，如果不是，请调整索引\n",
    "\n",
    "# 使用t-SNE进行降维\n",
    "tsne = TSNE(n_components=3, random_state=42)\n",
    "X_tsne = tsne.fit_transform(X)\n",
    "\n",
    "# 创建一个三维散点图\n",
    "fig = plt.figure()\n",
    "ax = fig.add_subplot(111, projection='3d')\n",
    "\n",
    "# 在三维空间中绘制散点图\n",
    "ax.scatter(X_tsne[:, 0], X_tsne[:, 1], X_tsne[:, 2])\n",
    "\n",
    "# 设置坐标轴标签\n",
    "ax.set_xlabel('x1')\n",
    "ax.set_ylabel('x2')\n",
    "ax.set_zlabel('x3')\n",
    "\n",
    "# 标题\n",
    "ax.set_title('t-SNE')\n",
    "\n",
    "# 显示图形\n",
    "plt.show()\n",
    "\n",
    "# 将图形保存为PDF\n",
    "fig.savefig(\"tsne_3d_plot.pdf\")\n"
   ]
  },
  {
   "cell_type": "code",
   "execution_count": null,
   "id": "9f5077e6-90f8-4b2c-a3ac-055739af75e6",
   "metadata": {},
   "outputs": [],
   "source": []
  }
 ],
 "metadata": {
  "kernelspec": {
   "display_name": "Python 3 (ipykernel)",
   "language": "python",
   "name": "python3"
  },
  "language_info": {
   "codemirror_mode": {
    "name": "ipython",
    "version": 3
   },
   "file_extension": ".py",
   "mimetype": "text/x-python",
   "name": "python",
   "nbconvert_exporter": "python",
   "pygments_lexer": "ipython3",
   "version": "3.11.4"
  }
 },
 "nbformat": 4,
 "nbformat_minor": 5
}
